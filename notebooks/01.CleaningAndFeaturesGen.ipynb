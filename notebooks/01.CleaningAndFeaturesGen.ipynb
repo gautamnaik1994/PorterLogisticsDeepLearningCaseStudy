{
 "cells": [
  {
   "cell_type": "markdown",
   "metadata": {},
   "source": [
    "# Porter Logistics Case Study\n",
    "\n",
    "**Context:**\n",
    "\n",
    "Porter is India's Largest Marketplace for Intra-City Logistics. Leader in the country's $40 billion intra-city logistics market, Porter strives to improve the lives of 1,50,000+ driver-partners by providing them with consistent earning & independence. Currently, the company has serviced 5+ million customers\n",
    "\n",
    "Porter works with a wide range of restaurants for delivering their items directly to the people.\n",
    "\n",
    "Porter has a number of delivery partners available for delivering the food, from various restaurants and wants to get an estimated delivery time that it can provide the customers on the basis of what they are ordering, from where and also the delivery partners.\n",
    "\n",
    "This dataset has the required data to train a regression model that will do the delivery time estimation, based on all those features\n",
    "\n",
    "\n",
    "**Data Dictionary**\n",
    "\n",
    "Each row in this file corresponds to one unique delivery. Each column corresponds to a feature as explained below.\n",
    "\n",
    "1. market\\_id : integer id for the market where the restaurant lies\n",
    "2. created\\_at : the timestamp at which the order was placed\n",
    "3. actual\\_delivery\\_time : the timestamp when the order was delivered\n",
    "4. store\\_primary\\_category : category for the restaurant\n",
    "5. order\\_protocol : integer code value for order protocol(how the order was placed ie: through porter, call to restaurant, pre booked, third part etc)\n",
    "6. total\\_items subtotal : final price of the order\n",
    "7. num\\_distinct\\_items : the number of distinct items in the order\n",
    "8. min\\_item\\_price : price of the cheapest item in the order\n",
    "9. max\\_item\\_price : price of the costliest item in order\n",
    "10. total\\_onshift\\_partners : number of delivery partners on duty at the time order was placed\n",
    "11. total\\_busy\\_partners : number of delivery partners attending to other tasks\n",
    "12. total\\_outstanding\\_orders : total number of orders to be fulfilled at the moment"
   ]
  },
  {
   "cell_type": "code",
   "execution_count": 1,
   "metadata": {},
   "outputs": [],
   "source": [
    "import polars as pl\n",
    "import duckdb as db\n",
    "import numpy as np\n",
    "from sklearn.impute import KNNImputer\n",
    "from sklearn.preprocessing import StandardScaler"
   ]
  },
  {
   "cell_type": "code",
   "execution_count": 2,
   "metadata": {},
   "outputs": [],
   "source": [
    "df = pl.read_csv(\"../data/raw/dataset.csv\")"
   ]
  },
  {
   "cell_type": "markdown",
   "metadata": {},
   "source": [
    "# Data Exploration"
   ]
  },
  {
   "cell_type": "code",
   "execution_count": 3,
   "metadata": {},
   "outputs": [
    {
     "data": {
      "text/html": [
       "<div><style>\n",
       ".dataframe > thead > tr,\n",
       ".dataframe > tbody > tr {\n",
       "  text-align: right;\n",
       "  white-space: pre-wrap;\n",
       "}\n",
       "</style>\n",
       "<small>shape: (5, 14)</small><table border=\"1\" class=\"dataframe\"><thead><tr><th>market_id</th><th>created_at</th><th>actual_delivery_time</th><th>store_id</th><th>store_primary_category</th><th>order_protocol</th><th>total_items</th><th>subtotal</th><th>num_distinct_items</th><th>min_item_price</th><th>max_item_price</th><th>total_onshift_partners</th><th>total_busy_partners</th><th>total_outstanding_orders</th></tr><tr><td>f64</td><td>str</td><td>str</td><td>str</td><td>str</td><td>f64</td><td>i64</td><td>i64</td><td>i64</td><td>i64</td><td>i64</td><td>f64</td><td>f64</td><td>f64</td></tr></thead><tbody><tr><td>1.0</td><td>&quot;2015-02-06 22:24:17&quot;</td><td>&quot;2015-02-06 23:27:16&quot;</td><td>&quot;df263d996281d984952c07998dc543…</td><td>&quot;american&quot;</td><td>1.0</td><td>4</td><td>3441</td><td>4</td><td>557</td><td>1239</td><td>33.0</td><td>14.0</td><td>21.0</td></tr><tr><td>2.0</td><td>&quot;2015-02-10 21:49:25&quot;</td><td>&quot;2015-02-10 22:56:29&quot;</td><td>&quot;f0ade77b43923b38237db569b016ba…</td><td>&quot;mexican&quot;</td><td>2.0</td><td>1</td><td>1900</td><td>1</td><td>1400</td><td>1400</td><td>1.0</td><td>2.0</td><td>2.0</td></tr><tr><td>3.0</td><td>&quot;2015-01-22 20:39:28&quot;</td><td>&quot;2015-01-22 21:09:09&quot;</td><td>&quot;f0ade77b43923b38237db569b016ba…</td><td>null</td><td>1.0</td><td>1</td><td>1900</td><td>1</td><td>1900</td><td>1900</td><td>1.0</td><td>0.0</td><td>0.0</td></tr><tr><td>3.0</td><td>&quot;2015-02-03 21:21:45&quot;</td><td>&quot;2015-02-03 22:13:00&quot;</td><td>&quot;f0ade77b43923b38237db569b016ba…</td><td>null</td><td>1.0</td><td>6</td><td>6900</td><td>5</td><td>600</td><td>1800</td><td>1.0</td><td>1.0</td><td>2.0</td></tr><tr><td>3.0</td><td>&quot;2015-02-15 02:40:36&quot;</td><td>&quot;2015-02-15 03:20:26&quot;</td><td>&quot;f0ade77b43923b38237db569b016ba…</td><td>null</td><td>1.0</td><td>3</td><td>3900</td><td>3</td><td>1100</td><td>1600</td><td>6.0</td><td>6.0</td><td>9.0</td></tr></tbody></table></div>"
      ],
      "text/plain": [
       "shape: (5, 14)\n",
       "┌───────────┬───────────┬───────────┬───────────┬───┬───────────┬───────────┬───────────┬──────────┐\n",
       "│ market_id ┆ created_a ┆ actual_de ┆ store_id  ┆ … ┆ max_item_ ┆ total_ons ┆ total_bus ┆ total_ou │\n",
       "│ ---       ┆ t         ┆ livery_ti ┆ ---       ┆   ┆ price     ┆ hift_part ┆ y_partner ┆ tstandin │\n",
       "│ f64       ┆ ---       ┆ me        ┆ str       ┆   ┆ ---       ┆ ners      ┆ s         ┆ g_orders │\n",
       "│           ┆ str       ┆ ---       ┆           ┆   ┆ i64       ┆ ---       ┆ ---       ┆ ---      │\n",
       "│           ┆           ┆ str       ┆           ┆   ┆           ┆ f64       ┆ f64       ┆ f64      │\n",
       "╞═══════════╪═══════════╪═══════════╪═══════════╪═══╪═══════════╪═══════════╪═══════════╪══════════╡\n",
       "│ 1.0       ┆ 2015-02-0 ┆ 2015-02-0 ┆ df263d996 ┆ … ┆ 1239      ┆ 33.0      ┆ 14.0      ┆ 21.0     │\n",
       "│           ┆ 6         ┆ 6         ┆ 281d98495 ┆   ┆           ┆           ┆           ┆          │\n",
       "│           ┆ 22:24:17  ┆ 23:27:16  ┆ 2c07998dc ┆   ┆           ┆           ┆           ┆          │\n",
       "│           ┆           ┆           ┆ 543…      ┆   ┆           ┆           ┆           ┆          │\n",
       "│ 2.0       ┆ 2015-02-1 ┆ 2015-02-1 ┆ f0ade77b4 ┆ … ┆ 1400      ┆ 1.0       ┆ 2.0       ┆ 2.0      │\n",
       "│           ┆ 0         ┆ 0         ┆ 3923b3823 ┆   ┆           ┆           ┆           ┆          │\n",
       "│           ┆ 21:49:25  ┆ 22:56:29  ┆ 7db569b01 ┆   ┆           ┆           ┆           ┆          │\n",
       "│           ┆           ┆           ┆ 6ba…      ┆   ┆           ┆           ┆           ┆          │\n",
       "│ 3.0       ┆ 2015-01-2 ┆ 2015-01-2 ┆ f0ade77b4 ┆ … ┆ 1900      ┆ 1.0       ┆ 0.0       ┆ 0.0      │\n",
       "│           ┆ 2         ┆ 2         ┆ 3923b3823 ┆   ┆           ┆           ┆           ┆          │\n",
       "│           ┆ 20:39:28  ┆ 21:09:09  ┆ 7db569b01 ┆   ┆           ┆           ┆           ┆          │\n",
       "│           ┆           ┆           ┆ 6ba…      ┆   ┆           ┆           ┆           ┆          │\n",
       "│ 3.0       ┆ 2015-02-0 ┆ 2015-02-0 ┆ f0ade77b4 ┆ … ┆ 1800      ┆ 1.0       ┆ 1.0       ┆ 2.0      │\n",
       "│           ┆ 3         ┆ 3         ┆ 3923b3823 ┆   ┆           ┆           ┆           ┆          │\n",
       "│           ┆ 21:21:45  ┆ 22:13:00  ┆ 7db569b01 ┆   ┆           ┆           ┆           ┆          │\n",
       "│           ┆           ┆           ┆ 6ba…      ┆   ┆           ┆           ┆           ┆          │\n",
       "│ 3.0       ┆ 2015-02-1 ┆ 2015-02-1 ┆ f0ade77b4 ┆ … ┆ 1600      ┆ 6.0       ┆ 6.0       ┆ 9.0      │\n",
       "│           ┆ 5         ┆ 5         ┆ 3923b3823 ┆   ┆           ┆           ┆           ┆          │\n",
       "│           ┆ 02:40:36  ┆ 03:20:26  ┆ 7db569b01 ┆   ┆           ┆           ┆           ┆          │\n",
       "│           ┆           ┆           ┆ 6ba…      ┆   ┆           ┆           ┆           ┆          │\n",
       "└───────────┴───────────┴───────────┴───────────┴───┴───────────┴───────────┴───────────┴──────────┘"
      ]
     },
     "execution_count": 3,
     "metadata": {},
     "output_type": "execute_result"
    }
   ],
   "source": [
    "df.head()"
   ]
  },
  {
   "cell_type": "code",
   "execution_count": 4,
   "metadata": {},
   "outputs": [
    {
     "data": {
      "text/plain": [
       "(197428, 14)"
      ]
     },
     "execution_count": 4,
     "metadata": {},
     "output_type": "execute_result"
    }
   ],
   "source": [
    "df.shape"
   ]
  },
  {
   "cell_type": "code",
   "execution_count": 5,
   "metadata": {},
   "outputs": [
    {
     "data": {
      "text/html": [
       "<div><style>\n",
       ".dataframe > thead > tr,\n",
       ".dataframe > tbody > tr {\n",
       "  text-align: right;\n",
       "  white-space: pre-wrap;\n",
       "}\n",
       "</style>\n",
       "<small>shape: (9, 15)</small><table border=\"1\" class=\"dataframe\"><thead><tr><th>statistic</th><th>market_id</th><th>created_at</th><th>actual_delivery_time</th><th>store_id</th><th>store_primary_category</th><th>order_protocol</th><th>total_items</th><th>subtotal</th><th>num_distinct_items</th><th>min_item_price</th><th>max_item_price</th><th>total_onshift_partners</th><th>total_busy_partners</th><th>total_outstanding_orders</th></tr><tr><td>str</td><td>f64</td><td>str</td><td>str</td><td>str</td><td>str</td><td>f64</td><td>f64</td><td>f64</td><td>f64</td><td>f64</td><td>f64</td><td>f64</td><td>f64</td><td>f64</td></tr></thead><tbody><tr><td>&quot;count&quot;</td><td>196441.0</td><td>&quot;197428&quot;</td><td>&quot;197421&quot;</td><td>&quot;197428&quot;</td><td>&quot;192668&quot;</td><td>196433.0</td><td>197428.0</td><td>197428.0</td><td>197428.0</td><td>197428.0</td><td>197428.0</td><td>181166.0</td><td>181166.0</td><td>181166.0</td></tr><tr><td>&quot;null_count&quot;</td><td>987.0</td><td>&quot;0&quot;</td><td>&quot;7&quot;</td><td>&quot;0&quot;</td><td>&quot;4760&quot;</td><td>995.0</td><td>0.0</td><td>0.0</td><td>0.0</td><td>0.0</td><td>0.0</td><td>16262.0</td><td>16262.0</td><td>16262.0</td></tr><tr><td>&quot;mean&quot;</td><td>2.978706</td><td>null</td><td>null</td><td>null</td><td>null</td><td>2.882352</td><td>3.196391</td><td>2682.331402</td><td>2.670791</td><td>686.21847</td><td>1159.58863</td><td>44.808093</td><td>41.739747</td><td>58.050065</td></tr><tr><td>&quot;std&quot;</td><td>1.524867</td><td>null</td><td>null</td><td>null</td><td>null</td><td>1.503771</td><td>2.666546</td><td>1823.093688</td><td>1.630255</td><td>522.038648</td><td>558.411377</td><td>34.526783</td><td>32.145733</td><td>52.66183</td></tr><tr><td>&quot;min&quot;</td><td>1.0</td><td>&quot;2014-10-19 05:24:15&quot;</td><td>&quot;2015-01-21 15:58:11&quot;</td><td>&quot;0004d0b59e19461ff126e3a08a814c…</td><td>&quot;afghan&quot;</td><td>1.0</td><td>1.0</td><td>0.0</td><td>1.0</td><td>-86.0</td><td>0.0</td><td>-4.0</td><td>-5.0</td><td>-6.0</td></tr><tr><td>&quot;25%&quot;</td><td>2.0</td><td>null</td><td>null</td><td>null</td><td>null</td><td>1.0</td><td>2.0</td><td>1400.0</td><td>1.0</td><td>299.0</td><td>800.0</td><td>17.0</td><td>15.0</td><td>17.0</td></tr><tr><td>&quot;50%&quot;</td><td>3.0</td><td>null</td><td>null</td><td>null</td><td>null</td><td>3.0</td><td>3.0</td><td>2200.0</td><td>2.0</td><td>595.0</td><td>1095.0</td><td>37.0</td><td>34.0</td><td>41.0</td></tr><tr><td>&quot;75%&quot;</td><td>4.0</td><td>null</td><td>null</td><td>null</td><td>null</td><td>4.0</td><td>4.0</td><td>3395.0</td><td>3.0</td><td>949.0</td><td>1395.0</td><td>65.0</td><td>62.0</td><td>85.0</td></tr><tr><td>&quot;max&quot;</td><td>6.0</td><td>&quot;2015-02-18 06:00:44&quot;</td><td>&quot;2015-02-19 22:45:31&quot;</td><td>&quot;ffedf5be3a86e2ee281d54cdc97bc1…</td><td>&quot;vietnamese&quot;</td><td>7.0</td><td>411.0</td><td>27100.0</td><td>20.0</td><td>14700.0</td><td>14700.0</td><td>171.0</td><td>154.0</td><td>285.0</td></tr></tbody></table></div>"
      ],
      "text/plain": [
       "shape: (9, 15)\n",
       "┌───────────┬───────────┬───────────┬───────────┬───┬───────────┬───────────┬───────────┬──────────┐\n",
       "│ statistic ┆ market_id ┆ created_a ┆ actual_de ┆ … ┆ max_item_ ┆ total_ons ┆ total_bus ┆ total_ou │\n",
       "│ ---       ┆ ---       ┆ t         ┆ livery_ti ┆   ┆ price     ┆ hift_part ┆ y_partner ┆ tstandin │\n",
       "│ str       ┆ f64       ┆ ---       ┆ me        ┆   ┆ ---       ┆ ners      ┆ s         ┆ g_orders │\n",
       "│           ┆           ┆ str       ┆ ---       ┆   ┆ f64       ┆ ---       ┆ ---       ┆ ---      │\n",
       "│           ┆           ┆           ┆ str       ┆   ┆           ┆ f64       ┆ f64       ┆ f64      │\n",
       "╞═══════════╪═══════════╪═══════════╪═══════════╪═══╪═══════════╪═══════════╪═══════════╪══════════╡\n",
       "│ count     ┆ 196441.0  ┆ 197428    ┆ 197421    ┆ … ┆ 197428.0  ┆ 181166.0  ┆ 181166.0  ┆ 181166.0 │\n",
       "│ null_coun ┆ 987.0     ┆ 0         ┆ 7         ┆ … ┆ 0.0       ┆ 16262.0   ┆ 16262.0   ┆ 16262.0  │\n",
       "│ t         ┆           ┆           ┆           ┆   ┆           ┆           ┆           ┆          │\n",
       "│ mean      ┆ 2.978706  ┆ null      ┆ null      ┆ … ┆ 1159.5886 ┆ 44.808093 ┆ 41.739747 ┆ 58.05006 │\n",
       "│           ┆           ┆           ┆           ┆   ┆ 3         ┆           ┆           ┆ 5        │\n",
       "│ std       ┆ 1.524867  ┆ null      ┆ null      ┆ … ┆ 558.41137 ┆ 34.526783 ┆ 32.145733 ┆ 52.66183 │\n",
       "│           ┆           ┆           ┆           ┆   ┆ 7         ┆           ┆           ┆          │\n",
       "│ min       ┆ 1.0       ┆ 2014-10-1 ┆ 2015-01-2 ┆ … ┆ 0.0       ┆ -4.0      ┆ -5.0      ┆ -6.0     │\n",
       "│           ┆           ┆ 9         ┆ 1         ┆   ┆           ┆           ┆           ┆          │\n",
       "│           ┆           ┆ 05:24:15  ┆ 15:58:11  ┆   ┆           ┆           ┆           ┆          │\n",
       "│ 25%       ┆ 2.0       ┆ null      ┆ null      ┆ … ┆ 800.0     ┆ 17.0      ┆ 15.0      ┆ 17.0     │\n",
       "│ 50%       ┆ 3.0       ┆ null      ┆ null      ┆ … ┆ 1095.0    ┆ 37.0      ┆ 34.0      ┆ 41.0     │\n",
       "│ 75%       ┆ 4.0       ┆ null      ┆ null      ┆ … ┆ 1395.0    ┆ 65.0      ┆ 62.0      ┆ 85.0     │\n",
       "│ max       ┆ 6.0       ┆ 2015-02-1 ┆ 2015-02-1 ┆ … ┆ 14700.0   ┆ 171.0     ┆ 154.0     ┆ 285.0    │\n",
       "│           ┆           ┆ 8         ┆ 9         ┆   ┆           ┆           ┆           ┆          │\n",
       "│           ┆           ┆ 06:00:44  ┆ 22:45:31  ┆   ┆           ┆           ┆           ┆          │\n",
       "└───────────┴───────────┴───────────┴───────────┴───┴───────────┴───────────┴───────────┴──────────┘"
      ]
     },
     "execution_count": 5,
     "metadata": {},
     "output_type": "execute_result"
    }
   ],
   "source": [
    "df.describe()"
   ]
  },
  {
   "cell_type": "code",
   "execution_count": 6,
   "metadata": {},
   "outputs": [
    {
     "data": {
      "text/plain": [
       "{'market_id': Float64,\n",
       " 'created_at': String,\n",
       " 'actual_delivery_time': String,\n",
       " 'store_id': String,\n",
       " 'store_primary_category': String,\n",
       " 'order_protocol': Float64,\n",
       " 'total_items': Int64,\n",
       " 'subtotal': Int64,\n",
       " 'num_distinct_items': Int64,\n",
       " 'min_item_price': Int64,\n",
       " 'max_item_price': Int64,\n",
       " 'total_onshift_partners': Float64,\n",
       " 'total_busy_partners': Float64,\n",
       " 'total_outstanding_orders': Float64}"
      ]
     },
     "execution_count": 6,
     "metadata": {},
     "output_type": "execute_result"
    }
   ],
   "source": [
    "dict(zip(df.columns, df.dtypes))"
   ]
  },
  {
   "cell_type": "code",
   "execution_count": 7,
   "metadata": {},
   "outputs": [
    {
     "data": {
      "text/html": [
       "<div><style>\n",
       ".dataframe > thead > tr,\n",
       ".dataframe > tbody > tr {\n",
       "  text-align: right;\n",
       "  white-space: pre-wrap;\n",
       "}\n",
       "</style>\n",
       "<small>shape: (1, 14)</small><table border=\"1\" class=\"dataframe\"><thead><tr><th>market_id</th><th>created_at</th><th>actual_delivery_time</th><th>store_id</th><th>store_primary_category</th><th>order_protocol</th><th>total_items</th><th>subtotal</th><th>num_distinct_items</th><th>min_item_price</th><th>max_item_price</th><th>total_onshift_partners</th><th>total_busy_partners</th><th>total_outstanding_orders</th></tr><tr><td>u32</td><td>u32</td><td>u32</td><td>u32</td><td>u32</td><td>u32</td><td>u32</td><td>u32</td><td>u32</td><td>u32</td><td>u32</td><td>u32</td><td>u32</td><td>u32</td></tr></thead><tbody><tr><td>987</td><td>0</td><td>7</td><td>0</td><td>4760</td><td>995</td><td>0</td><td>0</td><td>0</td><td>0</td><td>0</td><td>16262</td><td>16262</td><td>16262</td></tr></tbody></table></div>"
      ],
      "text/plain": [
       "shape: (1, 14)\n",
       "┌───────────┬───────────┬───────────┬──────────┬───┬───────────┬───────────┬───────────┬───────────┐\n",
       "│ market_id ┆ created_a ┆ actual_de ┆ store_id ┆ … ┆ max_item_ ┆ total_ons ┆ total_bus ┆ total_out │\n",
       "│ ---       ┆ t         ┆ livery_ti ┆ ---      ┆   ┆ price     ┆ hift_part ┆ y_partner ┆ standing_ │\n",
       "│ u32       ┆ ---       ┆ me        ┆ u32      ┆   ┆ ---       ┆ ners      ┆ s         ┆ orders    │\n",
       "│           ┆ u32       ┆ ---       ┆          ┆   ┆ u32       ┆ ---       ┆ ---       ┆ ---       │\n",
       "│           ┆           ┆ u32       ┆          ┆   ┆           ┆ u32       ┆ u32       ┆ u32       │\n",
       "╞═══════════╪═══════════╪═══════════╪══════════╪═══╪═══════════╪═══════════╪═══════════╪═══════════╡\n",
       "│ 987       ┆ 0         ┆ 7         ┆ 0        ┆ … ┆ 0         ┆ 16262     ┆ 16262     ┆ 16262     │\n",
       "└───────────┴───────────┴───────────┴──────────┴───┴───────────┴───────────┴───────────┴───────────┘"
      ]
     },
     "execution_count": 7,
     "metadata": {},
     "output_type": "execute_result"
    }
   ],
   "source": [
    "df.null_count()"
   ]
  },
  {
   "cell_type": "code",
   "execution_count": 8,
   "metadata": {},
   "outputs": [
    {
     "data": {
      "text/plain": [
       "┌───────────┬─────────────────────┬──────────────────────┬──────────────────────────────────┬────────────────────────┬────────────────┬─────────────┬──────────┬────────────────────┬────────────────┬────────────────┬────────────────────────┬─────────────────────┬──────────────────────────┐\n",
       "│ market_id │     created_at      │ actual_delivery_time │             store_id             │ store_primary_category │ order_protocol │ total_items │ subtotal │ num_distinct_items │ min_item_price │ max_item_price │ total_onshift_partners │ total_busy_partners │ total_outstanding_orders │\n",
       "│  double   │       varchar       │       varchar        │             varchar              │        varchar         │     double     │    int64    │  int64   │       int64        │     int64      │     int64      │         double         │       double        │          double          │\n",
       "├───────────┼─────────────────────┼──────────────────────┼──────────────────────────────────┼────────────────────────┼────────────────┼─────────────┼──────────┼────────────────────┼────────────────┼────────────────┼────────────────────────┼─────────────────────┼──────────────────────────┤\n",
       "│       6.0 │ 2015-02-06 01:11:56 │ 2015-02-06 01:42:51  │ 45d38ce7f5231602e24a2103a0300ae6 │ breakfast              │            2.0 │           2 │      575 │                  2 │            225 │            350 │                   NULL │                NULL │                     NULL │\n",
       "│       6.0 │ 2015-02-14 02:07:47 │ 2015-02-14 03:17:37  │ 45d38ce7f5231602e24a2103a0300ae6 │ breakfast              │            2.0 │           5 │     1415 │                  3 │            185 │            675 │                   NULL │                NULL │                     NULL │\n",
       "│       6.0 │ 2015-01-31 21:58:30 │ 2015-01-31 22:55:32  │ 45d38ce7f5231602e24a2103a0300ae6 │ breakfast              │            2.0 │           1 │      650 │                  1 │            650 │            650 │                   NULL │                NULL │                     NULL │\n",
       "│       6.0 │ 2015-02-08 03:28:59 │ 2015-02-08 05:32:11  │ 45d38ce7f5231602e24a2103a0300ae6 │ breakfast              │            2.0 │           5 │     1550 │                  5 │            225 │            700 │                   NULL │                NULL │                     NULL │\n",
       "│       6.0 │ 2015-01-23 19:29:17 │ 2015-01-23 20:25:25  │ 45d38ce7f5231602e24a2103a0300ae6 │ breakfast              │            2.0 │           6 │     1110 │                  5 │            185 │            185 │                   NULL │                NULL │                     NULL │\n",
       "│       6.0 │ 2015-02-03 22:27:24 │ 2015-02-03 23:09:31  │ 45d38ce7f5231602e24a2103a0300ae6 │ breakfast              │            2.0 │           8 │     2115 │                  8 │            150 │            650 │                   NULL │                NULL │                     NULL │\n",
       "│       6.0 │ 2015-01-31 01:35:23 │ 2015-01-31 02:16:43  │ 45d38ce7f5231602e24a2103a0300ae6 │ breakfast              │            2.0 │           2 │     1741 │                  2 │            889 │            772 │                   NULL │                NULL │                     NULL │\n",
       "│       6.0 │ 2015-01-24 23:17:11 │ 2015-01-25 00:24:49  │ 45d38ce7f5231602e24a2103a0300ae6 │ breakfast              │            2.0 │           7 │     2250 │                  2 │            225 │            900 │                   NULL │                NULL │                     NULL │\n",
       "│       6.0 │ 2015-02-03 21:15:23 │ 2015-02-03 22:38:32  │ 45d38ce7f5231602e24a2103a0300ae6 │ breakfast              │            2.0 │           1 │     3900 │                  1 │           3900 │           3900 │                   NULL │                NULL │                     NULL │\n",
       "│       6.0 │ 2015-02-15 19:57:36 │ 2015-02-15 20:49:04  │ 4a06d868d044c50af0cf9bc82d2fc19f │ sandwich               │            1.0 │           4 │     3575 │                  4 │            400 │            925 │                   NULL │                NULL │                     NULL │\n",
       "│       6.0 │ 2015-01-25 19:15:56 │ 2015-01-25 19:40:38  │ 4a06d868d044c50af0cf9bc82d2fc19f │ sandwich               │            1.0 │           2 │     2374 │                  2 │            979 │           1048 │                   NULL │                NULL │                     NULL │\n",
       "│       6.0 │ 2015-01-28 19:50:12 │ 2015-01-28 20:41:22  │ e143c01e314f7b950daca31188cb5d0f │ sandwich               │            1.0 │           7 │     2503 │                  4 │              0 │           1199 │                   NULL │                NULL │                     NULL │\n",
       "│       6.0 │ 2015-01-28 21:34:15 │ 2015-01-28 22:01:36  │ e143c01e314f7b950daca31188cb5d0f │ sandwich               │            1.0 │           5 │     1997 │                  5 │            179 │            649 │                   NULL │                NULL │                     NULL │\n",
       "│       6.0 │ 2015-02-17 19:38:04 │ 2015-02-17 20:02:27  │ e143c01e314f7b950daca31188cb5d0f │ sandwich               │            1.0 │           3 │     1274 │                  3 │              0 │            375 │                   NULL │                NULL │                     NULL │\n",
       "│       6.0 │ 2015-01-29 21:18:12 │ 2015-01-29 21:43:05  │ e143c01e314f7b950daca31188cb5d0f │ sandwich               │            1.0 │           2 │     1798 │                  1 │            899 │            899 │                   NULL │                NULL │                     NULL │\n",
       "│       6.0 │ 2015-02-14 21:20:04 │ 2015-02-14 21:54:10  │ e143c01e314f7b950daca31188cb5d0f │ sandwich               │            1.0 │           2 │     2497 │                  2 │            999 │           1199 │                   NULL │                NULL │                     NULL │\n",
       "│       6.0 │ 2015-02-03 23:33:16 │ 2015-02-04 00:07:15  │ e143c01e314f7b950daca31188cb5d0f │ sandwich               │            4.0 │           2 │     1597 │                  2 │            299 │           1099 │                   NULL │                NULL │                     NULL │\n",
       "│       6.0 │ 2015-02-07 03:40:27 │ 2015-02-07 04:06:48  │ e143c01e314f7b950daca31188cb5d0f │ sandwich               │            1.0 │           1 │     1048 │                  1 │            699 │            699 │                   NULL │                NULL │                     NULL │\n",
       "│       6.0 │ 2015-02-07 21:28:56 │ 2015-02-07 22:00:43  │ e143c01e314f7b950daca31188cb5d0f │ sandwich               │            1.0 │           2 │     1199 │                  2 │            300 │            899 │                   NULL │                NULL │                     NULL │\n",
       "│       6.0 │ 2015-02-09 05:22:41 │ 2015-02-09 05:51:35  │ 1f0643149dd5c86751215fd0040675aa │ korean                 │            1.0 │           2 │     2390 │                  2 │           1095 │           1295 │                   NULL │                NULL │                     NULL │\n",
       "├───────────┴─────────────────────┴──────────────────────┴──────────────────────────────────┴────────────────────────┴────────────────┴─────────────┴──────────┴────────────────────┴────────────────┴────────────────┴────────────────────────┴─────────────────────┴──────────────────────────┤\n",
       "│ 20 rows                                                                                                                                                                                                                                                                            14 columns │\n",
       "└───────────────────────────────────────────────────────────────────────────────────────────────────────────────────────────────────────────────────────────────────────────────────────────────────────────────────────────────────────────────────────────────────────────────────────────────┘"
      ]
     },
     "execution_count": 8,
     "metadata": {},
     "output_type": "execute_result"
    }
   ],
   "source": [
    "db.sql(\"\"\" \n",
    "select * from df where total_onshift_partners IS NULL limit 20\n",
    "\"\"\")"
   ]
  },
  {
   "cell_type": "code",
   "execution_count": 9,
   "metadata": {},
   "outputs": [
    {
     "data": {
      "text/plain": [
       "┌───────────┬─────────────────────┬──────────────────────┬──────────────────────────────────┬────────────────────────┬────────────────┬─────────────┬──────────┬────────────────────┬────────────────┬────────────────┬────────────────────────┬─────────────────────┬──────────────────────────┐\n",
       "│ market_id │     created_at      │ actual_delivery_time │             store_id             │ store_primary_category │ order_protocol │ total_items │ subtotal │ num_distinct_items │ min_item_price │ max_item_price │ total_onshift_partners │ total_busy_partners │ total_outstanding_orders │\n",
       "│  double   │       varchar       │       varchar        │             varchar              │        varchar         │     double     │    int64    │  int64   │       int64        │     int64      │     int64      │         double         │       double        │          double          │\n",
       "├───────────┼─────────────────────┼──────────────────────┼──────────────────────────────────┼────────────────────────┼────────────────┼─────────────┼──────────┼────────────────────┼────────────────┼────────────────┼────────────────────────┼─────────────────────┼──────────────────────────┤\n",
       "│       3.0 │ 2015-01-22 20:39:28 │ 2015-01-22 21:09:09  │ f0ade77b43923b38237db569b016ba25 │ NULL                   │            1.0 │           1 │     1900 │                  1 │           1900 │           1900 │                    1.0 │                 0.0 │                      0.0 │\n",
       "│       3.0 │ 2015-02-03 21:21:45 │ 2015-02-03 22:13:00  │ f0ade77b43923b38237db569b016ba25 │ NULL                   │            1.0 │           6 │     6900 │                  5 │            600 │           1800 │                    1.0 │                 1.0 │                      2.0 │\n",
       "│       3.0 │ 2015-02-15 02:40:36 │ 2015-02-15 03:20:26  │ f0ade77b43923b38237db569b016ba25 │ NULL                   │            1.0 │           3 │     3900 │                  3 │           1100 │           1600 │                    6.0 │                 6.0 │                      9.0 │\n",
       "│       3.0 │ 2015-01-28 20:30:38 │ 2015-01-28 21:08:58  │ f0ade77b43923b38237db569b016ba25 │ NULL                   │            1.0 │           3 │     5000 │                  3 │           1500 │           1900 │                    2.0 │                 2.0 │                      2.0 │\n",
       "│       3.0 │ 2015-01-31 02:16:36 │ 2015-01-31 02:43:00  │ f0ade77b43923b38237db569b016ba25 │ NULL                   │            1.0 │           2 │     3900 │                  2 │           1200 │           2700 │                   10.0 │                 9.0 │                      9.0 │\n",
       "│       3.0 │ 2015-02-12 03:03:35 │ 2015-02-12 03:36:20  │ f0ade77b43923b38237db569b016ba25 │ NULL                   │            1.0 │           4 │     4850 │                  4 │            750 │           1800 │                    7.0 │                 8.0 │                      7.0 │\n",
       "│       3.0 │ 2015-02-18 01:15:45 │ 2015-02-18 02:08:57  │ f0ade77b43923b38237db569b016ba25 │ NULL                   │            1.0 │           2 │     2100 │                  2 │            700 │           1200 │                    2.0 │                 2.0 │                      2.0 │\n",
       "│       3.0 │ 2015-02-02 19:22:53 │ 2015-02-02 20:09:19  │ f0ade77b43923b38237db569b016ba25 │ NULL                   │            4.0 │           4 │     4300 │                  4 │           1200 │           1500 │                    1.0 │                 1.0 │                      1.0 │\n",
       "│       3.0 │ 2015-02-16 04:19:33 │ 2015-02-16 06:34:00  │ f0ade77b43923b38237db569b016ba25 │ NULL                   │            1.0 │           2 │     2200 │                  2 │            600 │           1600 │                    3.0 │                 3.0 │                      4.0 │\n",
       "│       3.0 │ 2015-02-07 01:34:31 │ 2015-02-07 02:17:14  │ f0ade77b43923b38237db569b016ba25 │ NULL                   │            1.0 │           1 │     1900 │                  1 │           1900 │           1900 │                    6.0 │                 3.0 │                      3.0 │\n",
       "│       3.0 │ 2015-01-25 01:50:51 │ 2015-01-25 02:28:53  │ f0ade77b43923b38237db569b016ba25 │ NULL                   │            4.0 │           4 │     4986 │                  4 │            699 │           2362 │                   16.0 │                 6.0 │                      9.0 │\n",
       "│       1.0 │ 2015-01-28 20:33:04 │ 2015-01-28 21:04:14  │ 50905d7b2216bfeccb5b41016357176b │ NULL                   │           NULL │           3 │     1765 │                  3 │            275 │            895 │                   22.0 │                21.0 │                     24.0 │\n",
       "│       1.0 │ 2015-02-12 20:27:42 │ 2015-02-12 21:18:29  │ 50905d7b2216bfeccb5b41016357176b │ NULL                   │            2.0 │           1 │      975 │                  1 │            975 │            975 │                   24.0 │                25.0 │                     30.0 │\n",
       "│       1.0 │ 2015-01-28 21:37:38 │ 2015-01-28 22:11:53  │ 50905d7b2216bfeccb5b41016357176b │ NULL                   │            2.0 │           3 │     1425 │                  3 │            175 │            900 │                   13.0 │                12.0 │                      7.0 │\n",
       "│       1.0 │ 2015-01-21 20:35:27 │ 2015-01-21 21:01:26  │ 50905d7b2216bfeccb5b41016357176b │ NULL                   │            2.0 │           2 │     1750 │                  2 │            825 │            825 │                   18.0 │                18.0 │                     20.0 │\n",
       "│       1.0 │ 2015-02-16 19:19:17 │ 2015-02-16 20:16:43  │ 50905d7b2216bfeccb5b41016357176b │ NULL                   │            2.0 │           8 │     7870 │                  6 │            825 │            895 │                   12.0 │                11.0 │                      9.0 │\n",
       "│       1.0 │ 2015-01-27 20:26:19 │ 2015-01-27 21:03:53  │ 50905d7b2216bfeccb5b41016357176b │ NULL                   │            2.0 │           2 │     1725 │                  2 │            825 │            900 │                   21.0 │                18.0 │                     18.0 │\n",
       "│       1.0 │ 2015-01-22 20:19:08 │ 2015-01-22 21:07:43  │ 50905d7b2216bfeccb5b41016357176b │ NULL                   │            2.0 │           3 │     2015 │                  3 │            395 │           1025 │                   22.0 │                13.0 │                     13.0 │\n",
       "│       1.0 │ 2015-02-10 20:05:17 │ 2015-02-10 20:34:43  │ 50905d7b2216bfeccb5b41016357176b │ NULL                   │            2.0 │           1 │     1220 │                  1 │            825 │            825 │                   21.0 │                21.0 │                     20.0 │\n",
       "│       3.0 │ 2015-01-23 19:22:18 │ 2015-01-23 19:48:50  │ 51b7dae1031b20174cacc7e69d6e4bf0 │ NULL                   │            4.0 │           3 │      582 │                  1 │            194 │            194 │                    6.0 │                 5.0 │                      4.0 │\n",
       "├───────────┴─────────────────────┴──────────────────────┴──────────────────────────────────┴────────────────────────┴────────────────┴─────────────┴──────────┴────────────────────┴────────────────┴────────────────┴────────────────────────┴─────────────────────┴──────────────────────────┤\n",
       "│ 20 rows                                                                                                                                                                                                                                                                            14 columns │\n",
       "└───────────────────────────────────────────────────────────────────────────────────────────────────────────────────────────────────────────────────────────────────────────────────────────────────────────────────────────────────────────────────────────────────────────────────────────────┘"
      ]
     },
     "execution_count": 9,
     "metadata": {},
     "output_type": "execute_result"
    }
   ],
   "source": [
    "db.sql(\"\"\" \n",
    "select * from df where store_primary_category IS NULL limit 20\n",
    "\"\"\")"
   ]
  },
  {
   "cell_type": "code",
   "execution_count": 10,
   "metadata": {},
   "outputs": [
    {
     "data": {
      "text/plain": [
       "┌───────────┬─────────────────────┬──────────────────────┬──────────────────────────────────┬────────────────────────┬────────────────┬─────────────┬──────────┬────────────────────┬────────────────┬────────────────┬────────────────────────┬─────────────────────┬──────────────────────────┐\n",
       "│ market_id │     created_at      │ actual_delivery_time │             store_id             │ store_primary_category │ order_protocol │ total_items │ subtotal │ num_distinct_items │ min_item_price │ max_item_price │ total_onshift_partners │ total_busy_partners │ total_outstanding_orders │\n",
       "│  double   │       varchar       │       varchar        │             varchar              │        varchar         │     double     │    int64    │  int64   │       int64        │     int64      │     int64      │         double         │       double        │          double          │\n",
       "├───────────┼─────────────────────┼──────────────────────┼──────────────────────────────────┼────────────────────────┼────────────────┼─────────────┼──────────┼────────────────────┼────────────────┼────────────────┼────────────────────────┼─────────────────────┼──────────────────────────┤\n",
       "│       1.0 │ 2015-01-28 20:33:04 │ 2015-01-28 21:04:14  │ 50905d7b2216bfeccb5b41016357176b │ NULL                   │           NULL │           3 │     1765 │                  3 │            275 │            895 │                   22.0 │                21.0 │                     24.0 │\n",
       "│       4.0 │ 2015-01-24 19:48:45 │ 2015-01-24 20:31:14  │ a87ff679a2f3e71d9181a67b7542122c │ mediterranean          │           NULL │           2 │     2070 │                  2 │            325 │           1745 │                   36.0 │                60.0 │                     59.0 │\n",
       "│       2.0 │ 2015-02-10 19:36:38 │ 2015-02-10 20:24:14  │ 26324d8e2cc1957b8e581568a089a51c │ NULL                   │           NULL │           9 │     4781 │                  8 │            379 │            779 │                   37.0 │                38.0 │                     68.0 │\n",
       "│      NULL │ 2015-02-17 02:17:43 │ 2015-02-17 03:15:14  │ fe8c15fed5f808006ce95eddb7366e35 │ NULL                   │           NULL │           3 │     3400 │                  3 │           1000 │           1200 │                   36.0 │                36.0 │                     52.0 │\n",
       "│       4.0 │ 2015-02-09 02:10:29 │ 2015-02-09 02:59:20  │ 6ea9ab1baa0efb9e19094440c317e21b │ NULL                   │           NULL │           2 │     2790 │                  2 │           1295 │           1495 │                   84.0 │                66.0 │                    121.0 │\n",
       "│       5.0 │ 2015-01-30 20:27:37 │ 2015-01-30 21:17:51  │ b597976c3ce6012f3a07e9f5c71a3c8c │ NULL                   │           NULL │           1 │     1995 │                  1 │           1995 │           1995 │                   14.0 │                10.0 │                     12.0 │\n",
       "│       3.0 │ 2015-01-23 02:21:51 │ 2015-01-23 03:29:52  │ ed71773d43d53fa70ecf593c6582d9cc │ sushi                  │           NULL │           6 │     5275 │                  4 │            400 │           1295 │                    8.0 │                 7.0 │                      7.0 │\n",
       "│      NULL │ 2015-02-17 03:49:46 │ 2015-02-17 04:21:27  │ 86311dbe35f1b6c5166365165602f54d │ pizza                  │           NULL │           1 │     1699 │                  1 │           1399 │           1399 │                   44.0 │                40.0 │                     69.0 │\n",
       "│      NULL │ 2015-02-07 02:11:12 │ 2015-02-07 03:10:11  │ 29cb2d8a436d82bf5dbcca7ea09edc5c │ NULL                   │           NULL │           5 │     5240 │                  5 │            595 │           1325 │                   47.0 │                40.0 │                     71.0 │\n",
       "│      NULL │ 2015-01-23 04:09:03 │ 2015-01-23 05:14:00  │ 9f8684e630c4c30cad7b1f0935cd62ab │ NULL                   │           NULL │           2 │     2240 │                  1 │            920 │            920 │                   NULL │                NULL │                     NULL │\n",
       "│       4.0 │ 2015-02-10 23:44:10 │ 2015-02-11 00:34:39  │ cf2226ddd41b1a2d0ae51dab54d32c36 │ fast                   │           NULL │           2 │     1850 │                  1 │            775 │            775 │                   11.0 │                12.0 │                     21.0 │\n",
       "│       4.0 │ 2015-01-29 01:09:59 │ 2015-01-29 02:01:41  │ cf2226ddd41b1a2d0ae51dab54d32c36 │ NULL                   │           NULL │           3 │     1967 │                  3 │            189 │            659 │                   81.0 │                70.0 │                     82.0 │\n",
       "│      NULL │ 2015-01-29 02:46:37 │ 2015-01-29 03:47:41  │ fd8c07a31f8a85910ad8476f5f7efb27 │ chinese                │           NULL │           2 │      890 │                  2 │            160 │            710 │                    0.0 │                 0.0 │                      0.0 │\n",
       "│       2.0 │ 2015-02-16 02:05:20 │ 2015-02-16 02:44:08  │ 0bb0846327772451045bd30dd347821b │ NULL                   │           NULL │           1 │     2575 │                  1 │           2575 │           2575 │                   55.0 │                54.0 │                     89.0 │\n",
       "│       1.0 │ 2015-02-07 03:42:08 │ 2015-02-07 05:00:30  │ 35b47299c1130953d286c976e9c608dc │ british                │           NULL │           2 │     1750 │                  2 │            200 │           1550 │                   23.0 │                25.0 │                     38.0 │\n",
       "│      NULL │ 2015-01-21 20:42:48 │ 2015-01-21 21:20:59  │ 58e4d44e550d0f7ee0a23d6b02d9b0db │ american               │           NULL │           3 │     2150 │                  2 │            500 │           1150 │                   24.0 │                24.0 │                     28.0 │\n",
       "│       5.0 │ 2015-02-15 18:24:36 │ 2015-02-15 18:50:49  │ bb838bff2c2120b9237cac812c1019f8 │ NULL                   │           NULL │           6 │     1670 │                  4 │            175 │            395 │                    6.0 │                 6.0 │                      6.0 │\n",
       "│       3.0 │ 2015-02-07 23:05:03 │ 2015-02-07 23:35:05  │ 8de0c3085da54b8e957220b9c8de8aca │ NULL                   │           NULL │           6 │     3538 │                  3 │            100 │           1050 │                    7.0 │                 8.0 │                     13.0 │\n",
       "│       2.0 │ 2015-01-24 05:14:44 │ 2015-01-24 05:55:35  │ 34be90676412d14c80f85809d8e3b97b │ NULL                   │           NULL │           4 │     4696 │                  2 │           1099 │           1199 │                   27.0 │                27.0 │                     47.0 │\n",
       "│       1.0 │ 2015-01-29 00:57:22 │ 2015-01-29 01:40:19  │ f187a23c3ee681ef6913f31fd6d6446b │ pizza                  │           NULL │           1 │      995 │                  1 │            695 │            695 │                   11.0 │                 7.0 │                      6.0 │\n",
       "├───────────┴─────────────────────┴──────────────────────┴──────────────────────────────────┴────────────────────────┴────────────────┴─────────────┴──────────┴────────────────────┴────────────────┴────────────────┴────────────────────────┴─────────────────────┴──────────────────────────┤\n",
       "│ 20 rows                                                                                                                                                                                                                                                                            14 columns │\n",
       "└───────────────────────────────────────────────────────────────────────────────────────────────────────────────────────────────────────────────────────────────────────────────────────────────────────────────────────────────────────────────────────────────────────────────────────────────┘"
      ]
     },
     "execution_count": 10,
     "metadata": {},
     "output_type": "execute_result"
    }
   ],
   "source": [
    "db.sql(\"\"\" \n",
    "select * from df where order_protocol IS NULL limit 20\n",
    "\"\"\")"
   ]
  },
  {
   "cell_type": "code",
   "execution_count": 11,
   "metadata": {},
   "outputs": [
    {
     "data": {
      "text/plain": [
       "┌───────────┬────────────────────────┬──────────────┐\n",
       "│ market_id │ store_primary_category │ count_star() │\n",
       "│  double   │        varchar         │    int64     │\n",
       "├───────────┼────────────────────────┼──────────────┤\n",
       "│       2.0 │ mexican                │         6647 │\n",
       "│       2.0 │ american               │         5700 │\n",
       "│       1.0 │ american               │         5228 │\n",
       "│       2.0 │ pizza                  │         4859 │\n",
       "│       1.0 │ pizza                  │         4081 │\n",
       "│       4.0 │ pizza                  │         3840 │\n",
       "│       2.0 │ sandwich               │         3751 │\n",
       "│       2.0 │ burger                 │         3340 │\n",
       "│       4.0 │ mexican                │         3250 │\n",
       "│       2.0 │ dessert                │         3115 │\n",
       "│       4.0 │ chinese                │         2847 │\n",
       "│       3.0 │ american               │         2743 │\n",
       "│       1.0 │ japanese               │         2628 │\n",
       "│       4.0 │ burger                 │         2603 │\n",
       "│       4.0 │ dessert                │         2601 │\n",
       "│       4.0 │ vietnamese             │         2541 │\n",
       "│       3.0 │ mexican                │         2487 │\n",
       "│       1.0 │ mexican                │         2439 │\n",
       "│       4.0 │ japanese               │         2403 │\n",
       "│       5.0 │ american               │         2386 │\n",
       "├───────────┴────────────────────────┴──────────────┤\n",
       "│ 20 rows                                 3 columns │\n",
       "└───────────────────────────────────────────────────┘"
      ]
     },
     "execution_count": 11,
     "metadata": {},
     "output_type": "execute_result"
    }
   ],
   "source": [
    "db.sql(\"\"\" \n",
    "select market_id, store_primary_category, count(*) from df group by market_id, store_primary_category order by count(*) desc limit 20\n",
    "\"\"\")"
   ]
  },
  {
   "cell_type": "code",
   "execution_count": 12,
   "metadata": {},
   "outputs": [
    {
     "data": {
      "text/html": [
       "<div><style>\n",
       ".dataframe > thead > tr,\n",
       ".dataframe > tbody > tr {\n",
       "  text-align: right;\n",
       "  white-space: pre-wrap;\n",
       "}\n",
       "</style>\n",
       "<small>shape: (75, 2)</small><table border=\"1\" class=\"dataframe\"><thead><tr><th>store_primary_category</th><th>count</th></tr><tr><td>str</td><td>u32</td></tr></thead><tbody><tr><td>&quot;american&quot;</td><td>19399</td></tr><tr><td>&quot;pizza&quot;</td><td>17321</td></tr><tr><td>&quot;mexican&quot;</td><td>17099</td></tr><tr><td>&quot;burger&quot;</td><td>10958</td></tr><tr><td>&quot;sandwich&quot;</td><td>10060</td></tr><tr><td>&hellip;</td><td>&hellip;</td></tr><tr><td>&quot;lebanese&quot;</td><td>9</td></tr><tr><td>&quot;belgian&quot;</td><td>2</td></tr><tr><td>&quot;indonesian&quot;</td><td>2</td></tr><tr><td>&quot;alcohol-plus-food&quot;</td><td>1</td></tr><tr><td>&quot;chocolate&quot;</td><td>1</td></tr></tbody></table></div>"
      ],
      "text/plain": [
       "shape: (75, 2)\n",
       "┌────────────────────────┬───────┐\n",
       "│ store_primary_category ┆ count │\n",
       "│ ---                    ┆ ---   │\n",
       "│ str                    ┆ u32   │\n",
       "╞════════════════════════╪═══════╡\n",
       "│ american               ┆ 19399 │\n",
       "│ pizza                  ┆ 17321 │\n",
       "│ mexican                ┆ 17099 │\n",
       "│ burger                 ┆ 10958 │\n",
       "│ sandwich               ┆ 10060 │\n",
       "│ …                      ┆ …     │\n",
       "│ lebanese               ┆ 9     │\n",
       "│ belgian                ┆ 2     │\n",
       "│ indonesian             ┆ 2     │\n",
       "│ alcohol-plus-food      ┆ 1     │\n",
       "│ chocolate              ┆ 1     │\n",
       "└────────────────────────┴───────┘"
      ]
     },
     "execution_count": 12,
     "metadata": {},
     "output_type": "execute_result"
    }
   ],
   "source": [
    "df[\"store_primary_category\"].value_counts().sort(\"count\", descending=True)"
   ]
  },
  {
   "cell_type": "code",
   "execution_count": 13,
   "metadata": {},
   "outputs": [
    {
     "data": {
      "text/html": [
       "<div><style>\n",
       ".dataframe > thead > tr,\n",
       ".dataframe > tbody > tr {\n",
       "  text-align: right;\n",
       "  white-space: pre-wrap;\n",
       "}\n",
       "</style>\n",
       "<small>shape: (8, 2)</small><table border=\"1\" class=\"dataframe\"><thead><tr><th>order_protocol</th><th>count</th></tr><tr><td>f64</td><td>u32</td></tr></thead><tbody><tr><td>1.0</td><td>54725</td></tr><tr><td>3.0</td><td>53199</td></tr><tr><td>5.0</td><td>44290</td></tr><tr><td>2.0</td><td>24052</td></tr><tr><td>4.0</td><td>19354</td></tr><tr><td>null</td><td>995</td></tr><tr><td>6.0</td><td>794</td></tr><tr><td>7.0</td><td>19</td></tr></tbody></table></div>"
      ],
      "text/plain": [
       "shape: (8, 2)\n",
       "┌────────────────┬───────┐\n",
       "│ order_protocol ┆ count │\n",
       "│ ---            ┆ ---   │\n",
       "│ f64            ┆ u32   │\n",
       "╞════════════════╪═══════╡\n",
       "│ 1.0            ┆ 54725 │\n",
       "│ 3.0            ┆ 53199 │\n",
       "│ 5.0            ┆ 44290 │\n",
       "│ 2.0            ┆ 24052 │\n",
       "│ 4.0            ┆ 19354 │\n",
       "│ null           ┆ 995   │\n",
       "│ 6.0            ┆ 794   │\n",
       "│ 7.0            ┆ 19    │\n",
       "└────────────────┴───────┘"
      ]
     },
     "execution_count": 13,
     "metadata": {},
     "output_type": "execute_result"
    }
   ],
   "source": [
    "df[\"order_protocol\"].value_counts().sort(\"count\", descending=True)"
   ]
  },
  {
   "cell_type": "code",
   "execution_count": 14,
   "metadata": {},
   "outputs": [
    {
     "data": {
      "text/html": [
       "<div><style>\n",
       ".dataframe > thead > tr,\n",
       ".dataframe > tbody > tr {\n",
       "  text-align: right;\n",
       "  white-space: pre-wrap;\n",
       "}\n",
       "</style>\n",
       "<small>shape: (7, 2)</small><table border=\"1\" class=\"dataframe\"><thead><tr><th>market_id</th><th>count</th></tr><tr><td>f64</td><td>u32</td></tr></thead><tbody><tr><td>2.0</td><td>55058</td></tr><tr><td>4.0</td><td>47599</td></tr><tr><td>1.0</td><td>38037</td></tr><tr><td>3.0</td><td>23297</td></tr><tr><td>5.0</td><td>18000</td></tr><tr><td>6.0</td><td>14450</td></tr><tr><td>null</td><td>987</td></tr></tbody></table></div>"
      ],
      "text/plain": [
       "shape: (7, 2)\n",
       "┌───────────┬───────┐\n",
       "│ market_id ┆ count │\n",
       "│ ---       ┆ ---   │\n",
       "│ f64       ┆ u32   │\n",
       "╞═══════════╪═══════╡\n",
       "│ 2.0       ┆ 55058 │\n",
       "│ 4.0       ┆ 47599 │\n",
       "│ 1.0       ┆ 38037 │\n",
       "│ 3.0       ┆ 23297 │\n",
       "│ 5.0       ┆ 18000 │\n",
       "│ 6.0       ┆ 14450 │\n",
       "│ null      ┆ 987   │\n",
       "└───────────┴───────┘"
      ]
     },
     "execution_count": 14,
     "metadata": {},
     "output_type": "execute_result"
    }
   ],
   "source": [
    "df[\"market_id\"].value_counts().sort(\"count\", descending=True)"
   ]
  },
  {
   "cell_type": "code",
   "execution_count": 15,
   "metadata": {},
   "outputs": [],
   "source": [
    "df=df.with_columns(\n",
    "    pl.col(\"min_item_price\").abs(),\n",
    "    pl.col(\"max_item_price\").abs(),\n",
    "    pl.col(\"total_onshift_partners\").abs(),\n",
    "    pl.col(\"total_busy_partners\").abs(),\n",
    "    pl.col(\"total_outstanding_orders\").abs(),\n",
    ")"
   ]
  },
  {
   "cell_type": "code",
   "execution_count": 16,
   "metadata": {},
   "outputs": [
    {
     "data": {
      "text/html": [
       "<div><style>\n",
       ".dataframe > thead > tr,\n",
       ".dataframe > tbody > tr {\n",
       "  text-align: right;\n",
       "  white-space: pre-wrap;\n",
       "}\n",
       "</style>\n",
       "<small>shape: (9, 15)</small><table border=\"1\" class=\"dataframe\"><thead><tr><th>statistic</th><th>market_id</th><th>created_at</th><th>actual_delivery_time</th><th>store_id</th><th>store_primary_category</th><th>order_protocol</th><th>total_items</th><th>subtotal</th><th>num_distinct_items</th><th>min_item_price</th><th>max_item_price</th><th>total_onshift_partners</th><th>total_busy_partners</th><th>total_outstanding_orders</th></tr><tr><td>str</td><td>f64</td><td>str</td><td>str</td><td>str</td><td>str</td><td>f64</td><td>f64</td><td>f64</td><td>f64</td><td>f64</td><td>f64</td><td>f64</td><td>f64</td><td>f64</td></tr></thead><tbody><tr><td>&quot;count&quot;</td><td>196441.0</td><td>&quot;197428&quot;</td><td>&quot;197421&quot;</td><td>&quot;197428&quot;</td><td>&quot;192668&quot;</td><td>196433.0</td><td>197428.0</td><td>197428.0</td><td>197428.0</td><td>197428.0</td><td>197428.0</td><td>181166.0</td><td>181166.0</td><td>181166.0</td></tr><tr><td>&quot;null_count&quot;</td><td>987.0</td><td>&quot;0&quot;</td><td>&quot;7&quot;</td><td>&quot;0&quot;</td><td>&quot;4760&quot;</td><td>995.0</td><td>0.0</td><td>0.0</td><td>0.0</td><td>0.0</td><td>0.0</td><td>16262.0</td><td>16262.0</td><td>16262.0</td></tr><tr><td>&quot;mean&quot;</td><td>2.978706</td><td>null</td><td>null</td><td>null</td><td>null</td><td>2.882352</td><td>3.196391</td><td>2682.331402</td><td>2.670791</td><td>686.222339</td><td>1159.58863</td><td>44.808524</td><td>41.740166</td><td>58.051433</td></tr><tr><td>&quot;std&quot;</td><td>1.524867</td><td>null</td><td>null</td><td>null</td><td>null</td><td>1.503771</td><td>2.666546</td><td>1823.093688</td><td>1.630255</td><td>522.033561</td><td>558.411377</td><td>34.526225</td><td>32.145188</td><td>52.660321</td></tr><tr><td>&quot;min&quot;</td><td>1.0</td><td>&quot;2014-10-19 05:24:15&quot;</td><td>&quot;2015-01-21 15:58:11&quot;</td><td>&quot;0004d0b59e19461ff126e3a08a814c…</td><td>&quot;afghan&quot;</td><td>1.0</td><td>1.0</td><td>0.0</td><td>1.0</td><td>0.0</td><td>0.0</td><td>0.0</td><td>0.0</td><td>0.0</td></tr><tr><td>&quot;25%&quot;</td><td>2.0</td><td>null</td><td>null</td><td>null</td><td>null</td><td>1.0</td><td>2.0</td><td>1400.0</td><td>1.0</td><td>299.0</td><td>800.0</td><td>17.0</td><td>15.0</td><td>17.0</td></tr><tr><td>&quot;50%&quot;</td><td>3.0</td><td>null</td><td>null</td><td>null</td><td>null</td><td>3.0</td><td>3.0</td><td>2200.0</td><td>2.0</td><td>595.0</td><td>1095.0</td><td>37.0</td><td>34.0</td><td>41.0</td></tr><tr><td>&quot;75%&quot;</td><td>4.0</td><td>null</td><td>null</td><td>null</td><td>null</td><td>4.0</td><td>4.0</td><td>3395.0</td><td>3.0</td><td>949.0</td><td>1395.0</td><td>65.0</td><td>62.0</td><td>85.0</td></tr><tr><td>&quot;max&quot;</td><td>6.0</td><td>&quot;2015-02-18 06:00:44&quot;</td><td>&quot;2015-02-19 22:45:31&quot;</td><td>&quot;ffedf5be3a86e2ee281d54cdc97bc1…</td><td>&quot;vietnamese&quot;</td><td>7.0</td><td>411.0</td><td>27100.0</td><td>20.0</td><td>14700.0</td><td>14700.0</td><td>171.0</td><td>154.0</td><td>285.0</td></tr></tbody></table></div>"
      ],
      "text/plain": [
       "shape: (9, 15)\n",
       "┌───────────┬───────────┬───────────┬───────────┬───┬───────────┬───────────┬───────────┬──────────┐\n",
       "│ statistic ┆ market_id ┆ created_a ┆ actual_de ┆ … ┆ max_item_ ┆ total_ons ┆ total_bus ┆ total_ou │\n",
       "│ ---       ┆ ---       ┆ t         ┆ livery_ti ┆   ┆ price     ┆ hift_part ┆ y_partner ┆ tstandin │\n",
       "│ str       ┆ f64       ┆ ---       ┆ me        ┆   ┆ ---       ┆ ners      ┆ s         ┆ g_orders │\n",
       "│           ┆           ┆ str       ┆ ---       ┆   ┆ f64       ┆ ---       ┆ ---       ┆ ---      │\n",
       "│           ┆           ┆           ┆ str       ┆   ┆           ┆ f64       ┆ f64       ┆ f64      │\n",
       "╞═══════════╪═══════════╪═══════════╪═══════════╪═══╪═══════════╪═══════════╪═══════════╪══════════╡\n",
       "│ count     ┆ 196441.0  ┆ 197428    ┆ 197421    ┆ … ┆ 197428.0  ┆ 181166.0  ┆ 181166.0  ┆ 181166.0 │\n",
       "│ null_coun ┆ 987.0     ┆ 0         ┆ 7         ┆ … ┆ 0.0       ┆ 16262.0   ┆ 16262.0   ┆ 16262.0  │\n",
       "│ t         ┆           ┆           ┆           ┆   ┆           ┆           ┆           ┆          │\n",
       "│ mean      ┆ 2.978706  ┆ null      ┆ null      ┆ … ┆ 1159.5886 ┆ 44.808524 ┆ 41.740166 ┆ 58.05143 │\n",
       "│           ┆           ┆           ┆           ┆   ┆ 3         ┆           ┆           ┆ 3        │\n",
       "│ std       ┆ 1.524867  ┆ null      ┆ null      ┆ … ┆ 558.41137 ┆ 34.526225 ┆ 32.145188 ┆ 52.66032 │\n",
       "│           ┆           ┆           ┆           ┆   ┆ 7         ┆           ┆           ┆ 1        │\n",
       "│ min       ┆ 1.0       ┆ 2014-10-1 ┆ 2015-01-2 ┆ … ┆ 0.0       ┆ 0.0       ┆ 0.0       ┆ 0.0      │\n",
       "│           ┆           ┆ 9         ┆ 1         ┆   ┆           ┆           ┆           ┆          │\n",
       "│           ┆           ┆ 05:24:15  ┆ 15:58:11  ┆   ┆           ┆           ┆           ┆          │\n",
       "│ 25%       ┆ 2.0       ┆ null      ┆ null      ┆ … ┆ 800.0     ┆ 17.0      ┆ 15.0      ┆ 17.0     │\n",
       "│ 50%       ┆ 3.0       ┆ null      ┆ null      ┆ … ┆ 1095.0    ┆ 37.0      ┆ 34.0      ┆ 41.0     │\n",
       "│ 75%       ┆ 4.0       ┆ null      ┆ null      ┆ … ┆ 1395.0    ┆ 65.0      ┆ 62.0      ┆ 85.0     │\n",
       "│ max       ┆ 6.0       ┆ 2015-02-1 ┆ 2015-02-1 ┆ … ┆ 14700.0   ┆ 171.0     ┆ 154.0     ┆ 285.0    │\n",
       "│           ┆           ┆ 8         ┆ 9         ┆   ┆           ┆           ┆           ┆          │\n",
       "│           ┆           ┆ 06:00:44  ┆ 22:45:31  ┆   ┆           ┆           ┆           ┆          │\n",
       "└───────────┴───────────┴───────────┴───────────┴───┴───────────┴───────────┴───────────┴──────────┘"
      ]
     },
     "execution_count": 16,
     "metadata": {},
     "output_type": "execute_result"
    }
   ],
   "source": [
    "df.describe()"
   ]
  },
  {
   "cell_type": "code",
   "execution_count": 17,
   "metadata": {},
   "outputs": [
    {
     "data": {
      "text/html": [
       "<div><style>\n",
       ".dataframe > thead > tr,\n",
       ".dataframe > tbody > tr {\n",
       "  text-align: right;\n",
       "  white-space: pre-wrap;\n",
       "}\n",
       "</style>\n",
       "<small>shape: (1, 14)</small><table border=\"1\" class=\"dataframe\"><thead><tr><th>market_id</th><th>created_at</th><th>actual_delivery_time</th><th>store_id</th><th>store_primary_category</th><th>order_protocol</th><th>total_items</th><th>subtotal</th><th>num_distinct_items</th><th>min_item_price</th><th>max_item_price</th><th>total_onshift_partners</th><th>total_busy_partners</th><th>total_outstanding_orders</th></tr><tr><td>u32</td><td>u32</td><td>u32</td><td>u32</td><td>u32</td><td>u32</td><td>u32</td><td>u32</td><td>u32</td><td>u32</td><td>u32</td><td>u32</td><td>u32</td><td>u32</td></tr></thead><tbody><tr><td>987</td><td>0</td><td>7</td><td>0</td><td>4760</td><td>995</td><td>0</td><td>0</td><td>0</td><td>0</td><td>0</td><td>16262</td><td>16262</td><td>16262</td></tr></tbody></table></div>"
      ],
      "text/plain": [
       "shape: (1, 14)\n",
       "┌───────────┬───────────┬───────────┬──────────┬───┬───────────┬───────────┬───────────┬───────────┐\n",
       "│ market_id ┆ created_a ┆ actual_de ┆ store_id ┆ … ┆ max_item_ ┆ total_ons ┆ total_bus ┆ total_out │\n",
       "│ ---       ┆ t         ┆ livery_ti ┆ ---      ┆   ┆ price     ┆ hift_part ┆ y_partner ┆ standing_ │\n",
       "│ u32       ┆ ---       ┆ me        ┆ u32      ┆   ┆ ---       ┆ ners      ┆ s         ┆ orders    │\n",
       "│           ┆ u32       ┆ ---       ┆          ┆   ┆ u32       ┆ ---       ┆ ---       ┆ ---       │\n",
       "│           ┆           ┆ u32       ┆          ┆   ┆           ┆ u32       ┆ u32       ┆ u32       │\n",
       "╞═══════════╪═══════════╪═══════════╪══════════╪═══╪═══════════╪═══════════╪═══════════╪═══════════╡\n",
       "│ 987       ┆ 0         ┆ 7         ┆ 0        ┆ … ┆ 0         ┆ 16262     ┆ 16262     ┆ 16262     │\n",
       "└───────────┴───────────┴───────────┴──────────┴───┴───────────┴───────────┴───────────┴───────────┘"
      ]
     },
     "execution_count": 17,
     "metadata": {},
     "output_type": "execute_result"
    }
   ],
   "source": [
    "df.null_count()"
   ]
  },
  {
   "cell_type": "markdown",
   "metadata": {},
   "source": [
    "# Null Values Imputation"
   ]
  },
  {
   "cell_type": "code",
   "execution_count": 18,
   "metadata": {},
   "outputs": [],
   "source": [
    "df = df.drop_nulls(subset=[\"total_onshift_partners\", \"total_busy_partners\", \"total_outstanding_orders\", \"actual_delivery_time\",\\\n",
    "                        #    \"market_id\",\"store_primary_category\",\"order_protocol\"\\\n",
    "                           ])"
   ]
  },
  {
   "cell_type": "code",
   "execution_count": 19,
   "metadata": {},
   "outputs": [
    {
     "data": {
      "text/html": [
       "<div><style>\n",
       ".dataframe > thead > tr,\n",
       ".dataframe > tbody > tr {\n",
       "  text-align: right;\n",
       "  white-space: pre-wrap;\n",
       "}\n",
       "</style>\n",
       "<small>shape: (9, 15)</small><table border=\"1\" class=\"dataframe\"><thead><tr><th>statistic</th><th>market_id</th><th>created_at</th><th>actual_delivery_time</th><th>store_id</th><th>store_primary_category</th><th>order_protocol</th><th>total_items</th><th>subtotal</th><th>num_distinct_items</th><th>min_item_price</th><th>max_item_price</th><th>total_onshift_partners</th><th>total_busy_partners</th><th>total_outstanding_orders</th></tr><tr><td>str</td><td>f64</td><td>str</td><td>str</td><td>str</td><td>str</td><td>f64</td><td>f64</td><td>f64</td><td>f64</td><td>f64</td><td>f64</td><td>f64</td><td>f64</td><td>f64</td></tr></thead><tbody><tr><td>&quot;count&quot;</td><td>180240.0</td><td>&quot;181159&quot;</td><td>&quot;181159&quot;</td><td>&quot;181159&quot;</td><td>&quot;176944&quot;</td><td>180242.0</td><td>181159.0</td><td>181159.0</td><td>181159.0</td><td>181159.0</td><td>181159.0</td><td>181159.0</td><td>181159.0</td><td>181159.0</td></tr><tr><td>&quot;null_count&quot;</td><td>919.0</td><td>&quot;0&quot;</td><td>&quot;0&quot;</td><td>&quot;0&quot;</td><td>&quot;4215&quot;</td><td>917.0</td><td>0.0</td><td>0.0</td><td>0.0</td><td>0.0</td><td>0.0</td><td>0.0</td><td>0.0</td><td>0.0</td></tr><tr><td>&quot;mean&quot;</td><td>2.748702</td><td>null</td><td>null</td><td>null</td><td>null</td><td>2.895923</td><td>3.208469</td><td>2698.524296</td><td>2.677659</td><td>684.854095</td><td>1160.752698</td><td>44.807296</td><td>41.739207</td><td>58.049338</td></tr><tr><td>&quot;std&quot;</td><td>1.331715</td><td>null</td><td>null</td><td>null</td><td>null</td><td>1.514983</td><td>2.673052</td><td>1829.304441</td><td>1.627291</td><td>521.286542</td><td>561.838633</td><td>34.525354</td><td>32.144618</td><td>52.658547</td></tr><tr><td>&quot;min&quot;</td><td>1.0</td><td>&quot;2015-01-21 15:22:03&quot;</td><td>&quot;2015-01-21 15:58:11&quot;</td><td>&quot;0004d0b59e19461ff126e3a08a814c…</td><td>&quot;afghan&quot;</td><td>1.0</td><td>1.0</td><td>0.0</td><td>1.0</td><td>0.0</td><td>0.0</td><td>0.0</td><td>0.0</td><td>0.0</td></tr><tr><td>&quot;25%&quot;</td><td>2.0</td><td>null</td><td>null</td><td>null</td><td>null</td><td>1.0</td><td>2.0</td><td>1415.0</td><td>2.0</td><td>299.0</td><td>799.0</td><td>17.0</td><td>15.0</td><td>17.0</td></tr><tr><td>&quot;50%&quot;</td><td>2.0</td><td>null</td><td>null</td><td>null</td><td>null</td><td>3.0</td><td>3.0</td><td>2225.0</td><td>2.0</td><td>595.0</td><td>1095.0</td><td>37.0</td><td>34.0</td><td>41.0</td></tr><tr><td>&quot;75%&quot;</td><td>4.0</td><td>null</td><td>null</td><td>null</td><td>null</td><td>4.0</td><td>4.0</td><td>3411.0</td><td>3.0</td><td>942.0</td><td>1395.0</td><td>65.0</td><td>62.0</td><td>85.0</td></tr><tr><td>&quot;max&quot;</td><td>6.0</td><td>&quot;2015-02-18 06:00:44&quot;</td><td>&quot;2015-02-19 22:45:31&quot;</td><td>&quot;ffeabd223de0d4eacb9a3e6e53e544…</td><td>&quot;vietnamese&quot;</td><td>7.0</td><td>411.0</td><td>26800.0</td><td>20.0</td><td>14700.0</td><td>14700.0</td><td>171.0</td><td>154.0</td><td>285.0</td></tr></tbody></table></div>"
      ],
      "text/plain": [
       "shape: (9, 15)\n",
       "┌───────────┬───────────┬───────────┬───────────┬───┬───────────┬───────────┬───────────┬──────────┐\n",
       "│ statistic ┆ market_id ┆ created_a ┆ actual_de ┆ … ┆ max_item_ ┆ total_ons ┆ total_bus ┆ total_ou │\n",
       "│ ---       ┆ ---       ┆ t         ┆ livery_ti ┆   ┆ price     ┆ hift_part ┆ y_partner ┆ tstandin │\n",
       "│ str       ┆ f64       ┆ ---       ┆ me        ┆   ┆ ---       ┆ ners      ┆ s         ┆ g_orders │\n",
       "│           ┆           ┆ str       ┆ ---       ┆   ┆ f64       ┆ ---       ┆ ---       ┆ ---      │\n",
       "│           ┆           ┆           ┆ str       ┆   ┆           ┆ f64       ┆ f64       ┆ f64      │\n",
       "╞═══════════╪═══════════╪═══════════╪═══════════╪═══╪═══════════╪═══════════╪═══════════╪══════════╡\n",
       "│ count     ┆ 180240.0  ┆ 181159    ┆ 181159    ┆ … ┆ 181159.0  ┆ 181159.0  ┆ 181159.0  ┆ 181159.0 │\n",
       "│ null_coun ┆ 919.0     ┆ 0         ┆ 0         ┆ … ┆ 0.0       ┆ 0.0       ┆ 0.0       ┆ 0.0      │\n",
       "│ t         ┆           ┆           ┆           ┆   ┆           ┆           ┆           ┆          │\n",
       "│ mean      ┆ 2.748702  ┆ null      ┆ null      ┆ … ┆ 1160.7526 ┆ 44.807296 ┆ 41.739207 ┆ 58.04933 │\n",
       "│           ┆           ┆           ┆           ┆   ┆ 98        ┆           ┆           ┆ 8        │\n",
       "│ std       ┆ 1.331715  ┆ null      ┆ null      ┆ … ┆ 561.83863 ┆ 34.525354 ┆ 32.144618 ┆ 52.65854 │\n",
       "│           ┆           ┆           ┆           ┆   ┆ 3         ┆           ┆           ┆ 7        │\n",
       "│ min       ┆ 1.0       ┆ 2015-01-2 ┆ 2015-01-2 ┆ … ┆ 0.0       ┆ 0.0       ┆ 0.0       ┆ 0.0      │\n",
       "│           ┆           ┆ 1         ┆ 1         ┆   ┆           ┆           ┆           ┆          │\n",
       "│           ┆           ┆ 15:22:03  ┆ 15:58:11  ┆   ┆           ┆           ┆           ┆          │\n",
       "│ 25%       ┆ 2.0       ┆ null      ┆ null      ┆ … ┆ 799.0     ┆ 17.0      ┆ 15.0      ┆ 17.0     │\n",
       "│ 50%       ┆ 2.0       ┆ null      ┆ null      ┆ … ┆ 1095.0    ┆ 37.0      ┆ 34.0      ┆ 41.0     │\n",
       "│ 75%       ┆ 4.0       ┆ null      ┆ null      ┆ … ┆ 1395.0    ┆ 65.0      ┆ 62.0      ┆ 85.0     │\n",
       "│ max       ┆ 6.0       ┆ 2015-02-1 ┆ 2015-02-1 ┆ … ┆ 14700.0   ┆ 171.0     ┆ 154.0     ┆ 285.0    │\n",
       "│           ┆           ┆ 8         ┆ 9         ┆   ┆           ┆           ┆           ┆          │\n",
       "│           ┆           ┆ 06:00:44  ┆ 22:45:31  ┆   ┆           ┆           ┆           ┆          │\n",
       "└───────────┴───────────┴───────────┴───────────┴───┴───────────┴───────────┴───────────┴──────────┘"
      ]
     },
     "execution_count": 19,
     "metadata": {},
     "output_type": "execute_result"
    }
   ],
   "source": [
    "df.describe()"
   ]
  },
  {
   "cell_type": "code",
   "execution_count": 20,
   "metadata": {},
   "outputs": [
    {
     "data": {
      "text/plain": [
       "┌───────────┬─────────────────────┬──────────────────────┬──────────────────────────────────┬────────────────────────┬────────────────┬─────────────┬──────────┬────────────────────┬────────────────┬────────────────┬────────────────────────┬─────────────────────┬──────────────────────────┐\n",
       "│ market_id │     created_at      │ actual_delivery_time │             store_id             │ store_primary_category │ order_protocol │ total_items │ subtotal │ num_distinct_items │ min_item_price │ max_item_price │ total_onshift_partners │ total_busy_partners │ total_outstanding_orders │\n",
       "│  double   │       varchar       │       varchar        │             varchar              │        varchar         │     double     │    int64    │  int64   │       int64        │     int64      │     int64      │         double         │       double        │          double          │\n",
       "├───────────┼─────────────────────┼──────────────────────┼──────────────────────────────────┼────────────────────────┼────────────────┼─────────────┼──────────┼────────────────────┼────────────────┼────────────────┼────────────────────────┼─────────────────────┼──────────────────────────┤\n",
       "│       1.0 │ 2015-02-09 18:23:31 │ 2015-02-09 19:31:54  │ 3e91970f771a2c473ae36b60d1146068 │ mexican                │            1.0 │           1 │      575 │                  1 │              0 │              0 │                    7.0 │                 8.0 │                      9.0 │\n",
       "│       1.0 │ 2015-01-22 17:57:08 │ 2015-01-22 18:54:37  │ 3e91970f771a2c473ae36b60d1146068 │ mexican                │            1.0 │           1 │      575 │                  1 │              0 │              0 │                   11.0 │                 5.0 │                      4.0 │\n",
       "│       1.0 │ 2015-02-13 18:41:31 │ 2015-02-13 19:30:39  │ 3e91970f771a2c473ae36b60d1146068 │ mexican                │            1.0 │           1 │      575 │                  1 │              0 │              0 │                   12.0 │                12.0 │                     15.0 │\n",
       "│       1.0 │ 2015-01-21 19:36:57 │ 2015-01-21 20:23:45  │ 3e91970f771a2c473ae36b60d1146068 │ mexican                │            1.0 │           1 │      560 │                  1 │              0 │              0 │                   19.0 │                20.0 │                     29.0 │\n",
       "│       1.0 │ 2015-02-13 02:37:10 │ 2015-02-13 03:13:44  │ 3e91970f771a2c473ae36b60d1146068 │ dim-sum                │            5.0 │           1 │      595 │                  1 │              0 │              0 │                   61.0 │                59.0 │                     75.0 │\n",
       "│       5.0 │ 2015-01-27 02:26:45 │ 2015-01-27 02:56:56  │ 648f4baa45889f9c5f4f7add35862841 │ pizza                  │            3.0 │           1 │     2418 │                  1 │              0 │              0 │                   43.0 │                41.0 │                     36.0 │\n",
       "│       1.0 │ 2015-01-21 19:50:42 │ 2015-01-21 20:24:07  │ da5e8bfed9bdb84595be92afeb3fd378 │ sandwich               │            1.0 │           2 │     1090 │                  2 │              0 │              0 │                   21.0 │                21.0 │                     31.0 │\n",
       "└───────────┴─────────────────────┴──────────────────────┴──────────────────────────────────┴────────────────────────┴────────────────┴─────────────┴──────────┴────────────────────┴────────────────┴────────────────┴────────────────────────┴─────────────────────┴──────────────────────────┘"
      ]
     },
     "execution_count": 20,
     "metadata": {},
     "output_type": "execute_result"
    }
   ],
   "source": [
    "db.sql(\"\"\"\n",
    "    select * from df where max_item_price = 0 and min_item_price = 0\n",
    "\"\"\")"
   ]
  },
  {
   "cell_type": "code",
   "execution_count": 21,
   "metadata": {},
   "outputs": [],
   "source": [
    "df=df.with_columns(\n",
    "    pl.when(pl.col(\"max_item_price\") == 0).then(pl.col(\"max_item_price\").mean()).otherwise(pl.col(\"max_item_price\")).alias(\"max_item_price\"),\n",
    "    pl.when(pl.col(\"min_item_price\") == 0).then(pl.col(\"min_item_price\").mean()).otherwise(pl.col(\"min_item_price\")).alias(\"min_item_price\")\n",
    ")"
   ]
  },
  {
   "cell_type": "code",
   "execution_count": 22,
   "metadata": {},
   "outputs": [
    {
     "data": {
      "text/plain": [
       "┌───────────┬─────────────────────┬──────────────────────┬──────────────────────────────────┬────────────────────────┬────────────────┬─────────────┬──────────┬────────────────────┬───────────────────┬────────────────┬────────────────────────┬─────────────────────┬──────────────────────────┐\n",
       "│ market_id │     created_at      │ actual_delivery_time │             store_id             │ store_primary_category │ order_protocol │ total_items │ subtotal │ num_distinct_items │  min_item_price   │ max_item_price │ total_onshift_partners │ total_busy_partners │ total_outstanding_orders │\n",
       "│  double   │       varchar       │       varchar        │             varchar              │        varchar         │     double     │    int64    │  int64   │       int64        │      double       │     double     │         double         │       double        │          double          │\n",
       "├───────────┼─────────────────────┼──────────────────────┼──────────────────────────────────┼────────────────────────┼────────────────┼─────────────┼──────────┼────────────────────┼───────────────────┼────────────────┼────────────────────────┼─────────────────────┼──────────────────────────┤\n",
       "│       4.0 │ 2015-01-24 03:03:18 │ 2015-01-24 04:02:30  │ a87ff679a2f3e71d9181a67b7542122c │ mexican                │            1.0 │           1 │     1403 │                  1 │            1314.0 │         1292.0 │                  129.0 │               127.0 │                    205.0 │\n",
       "│       1.0 │ 2015-02-03 03:36:16 │ 2015-02-03 05:13:04  │ c56a4706337730e0e15da875405fa1c5 │ fast                   │            4.0 │           7 │     1223 │                  5 │ 684.8540950215005 │          649.0 │                   22.0 │                22.0 │                     48.0 │\n",
       "│       1.0 │ 2015-01-25 21:38:45 │ 2015-01-25 22:14:22  │ c56a4706337730e0e15da875405fa1c5 │ fast                   │            4.0 │           6 │      958 │                  6 │ 684.8540950215005 │          599.0 │                   17.0 │                 9.0 │                      9.0 │\n",
       "│       5.0 │ 2015-01-31 20:10:47 │ 2015-01-31 20:49:29  │ b597976c3ce6012f3a07e9f5c71a3c8c │ NULL                   │            1.0 │           1 │     1289 │                  1 │            1437.0 │         1400.0 │                   21.0 │                13.0 │                     19.0 │\n",
       "│       5.0 │ 2015-01-30 02:20:58 │ 2015-01-30 03:14:42  │ b597976c3ce6012f3a07e9f5c71a3c8c │ NULL                   │            1.0 │           1 │     1828 │                  1 │            2031.0 │         1935.0 │                   24.0 │                21.0 │                     23.0 │\n",
       "│       2.0 │ 2015-01-27 04:09:54 │ 2015-01-27 04:56:33  │ f806c5d2707545d718717be03e69a8d4 │ fast                   │            4.0 │          14 │     1305 │                  3 │ 684.8540950215005 │          190.0 │                   65.0 │                93.0 │                     77.0 │\n",
       "│       2.0 │ 2015-02-03 03:22:21 │ 2015-02-03 04:14:00  │ f806c5d2707545d718717be03e69a8d4 │ fast                   │            4.0 │          13 │      985 │                  4 │ 684.8540950215005 │          390.0 │                   96.0 │                89.0 │                    154.0 │\n",
       "│       5.0 │ 2015-02-08 03:42:21 │ 2015-02-08 04:20:11  │ f806c5d2707545d718717be03e69a8d4 │ nepalese               │            1.0 │          31 │     2820 │                  7 │ 684.8540950215005 │          355.0 │                  116.0 │               120.0 │                    184.0 │\n",
       "│       2.0 │ 2015-01-31 19:28:49 │ 2015-01-31 20:17:29  │ f806c5d2707545d718717be03e69a8d4 │ fast                   │            4.0 │          40 │     3000 │                  2 │ 684.8540950215005 │          150.0 │                   48.0 │                45.0 │                     51.0 │\n",
       "│       2.0 │ 2015-02-07 05:47:42 │ 2015-02-07 06:26:49  │ f806c5d2707545d718717be03e69a8d4 │ fast                   │            4.0 │          26 │     2320 │                  5 │ 684.8540950215005 │          250.0 │                   39.0 │                43.0 │                     67.0 │\n",
       "│        ·  │          ·          │          ·           │                ·                 │  ·                     │             ·  │           · │       ·  │                  · │               ·   │            ·   │                     ·  │                  ·  │                       ·  │\n",
       "│        ·  │          ·          │          ·           │                ·                 │  ·                     │             ·  │           · │       ·  │                  · │               ·   │            ·   │                     ·  │                  ·  │                       ·  │\n",
       "│        ·  │          ·          │          ·           │                ·                 │  ·                     │             ·  │           · │       ·  │                  · │               ·   │            ·   │                     ·  │                  ·  │                       ·  │\n",
       "│       3.0 │ 2015-02-06 20:06:59 │ 2015-02-06 20:40:50  │ dfb61b74af460c2fd68bb8266f9f0814 │ breakfast              │            1.0 │           1 │     1299 │                  1 │             805.0 │          765.0 │                    6.0 │                 6.0 │                      9.0 │\n",
       "│       4.0 │ 2015-02-03 20:36:37 │ 2015-02-03 21:04:49  │ 4cc39b42f22ee5987819b83fc055cb33 │ pizza                  │            3.0 │           1 │      625 │                  1 │             553.0 │          540.0 │                   31.0 │                35.0 │                     31.0 │\n",
       "│       4.0 │ 2015-02-07 20:52:15 │ 2015-02-07 21:28:58  │ 4cc39b42f22ee5987819b83fc055cb33 │ pizza                  │            3.0 │           1 │     3174 │                  1 │            1513.0 │         1403.0 │                   38.0 │                31.0 │                     32.0 │\n",
       "│       4.0 │ 2015-02-16 02:34:06 │ 2015-02-16 03:20:42  │ 17e62166fc8586dfa4d1bc0e1742c08b │ vietnamese             │            5.0 │           2 │     2086 │                  1 │             904.0 │          878.0 │                   85.0 │                77.0 │                    152.0 │\n",
       "│       4.0 │ 2015-02-03 02:57:44 │ 2015-02-03 03:41:32  │ 17e62166fc8586dfa4d1bc0e1742c08b │ vietnamese             │            5.0 │           2 │     2082 │                  2 │            1020.0 │          928.0 │                   88.0 │                87.0 │                    150.0 │\n",
       "│       1.0 │ 2015-02-15 22:15:36 │ 2015-02-15 22:42:14  │ 1763ea5a7e72dd7ee64073c2dda7a7a8 │ fast                   │            4.0 │           9 │      946 │                  5 │ 684.8540950215005 │          299.0 │                   24.0 │                17.0 │                     17.0 │\n",
       "│       1.0 │ 2015-02-09 05:16:26 │ 2015-02-09 05:48:49  │ 1763ea5a7e72dd7ee64073c2dda7a7a8 │ fast                   │            4.0 │           6 │      348 │                  3 │ 684.8540950215005 │          169.0 │                   20.0 │                20.0 │                     18.0 │\n",
       "│       1.0 │ 2015-01-25 03:06:25 │ 2015-01-25 03:32:31  │ 1763ea5a7e72dd7ee64073c2dda7a7a8 │ fast                   │            4.0 │          11 │     1351 │                  5 │ 684.8540950215005 │          169.0 │                   75.0 │                66.0 │                     83.0 │\n",
       "│       1.0 │ 2015-01-30 19:24:55 │ 2015-01-30 20:03:21  │ a914ecef9c12ffdb9bede64bb703d877 │ fast                   │            4.0 │           1 │     1142 │                  1 │             737.0 │          701.0 │                   22.0 │                19.0 │                     32.0 │\n",
       "│       1.0 │ 2015-02-09 20:32:27 │ 2015-02-09 21:09:10  │ a914ecef9c12ffdb9bede64bb703d877 │ fast                   │            4.0 │           1 │      437 │                  1 │             497.0 │          448.0 │                   36.0 │                26.0 │                     27.0 │\n",
       "├───────────┴─────────────────────┴──────────────────────┴──────────────────────────────────┴────────────────────────┴────────────────┴─────────────┴──────────┴────────────────────┴───────────────────┴────────────────┴────────────────────────┴─────────────────────┴──────────────────────────┤\n",
       "│ 1778 rows (20 shown)                                                                                                                                                                                                                                                                  14 columns │\n",
       "└──────────────────────────────────────────────────────────────────────────────────────────────────────────────────────────────────────────────────────────────────────────────────────────────────────────────────────────────────────────────────────────────────────────────────────────────────┘"
      ]
     },
     "execution_count": 22,
     "metadata": {},
     "output_type": "execute_result"
    }
   ],
   "source": [
    "db.sql(\"\"\"\n",
    "    select * from df where max_item_price < min_item_price\n",
    "\"\"\")"
   ]
  },
  {
   "cell_type": "code",
   "execution_count": 23,
   "metadata": {},
   "outputs": [],
   "source": [
    "df=df.with_columns(\n",
    "    max_price_temp=pl.col('max_item_price'),\n",
    "    min_price_temp=pl.col('min_item_price'),\n",
    ")"
   ]
  },
  {
   "cell_type": "code",
   "execution_count": 24,
   "metadata": {},
   "outputs": [],
   "source": [
    "df=df.with_columns(\n",
    "    max_item_price=pl.when(pl.col('max_price_temp') < pl.col('min_price_temp'))\n",
    "    .then(pl.col('min_price_temp'))\n",
    "    .otherwise(pl.col('max_price_temp')),\n",
    "    min_item_price=pl.when(pl.col('min_price_temp') > pl.col('max_price_temp'))\n",
    "    .then(pl.col('max_price_temp'))\n",
    "    .otherwise(pl.col('min_price_temp'))\n",
    ").drop('max_price_temp', 'min_price_temp')"
   ]
  },
  {
   "cell_type": "code",
   "execution_count": 25,
   "metadata": {},
   "outputs": [
    {
     "data": {
      "text/plain": [
       "┌───────────┬─────────────────────┬──────────────────────┬──────────────────────────────────┬────────────────────────┬────────────────┬─────────────┬──────────┬────────────────────┬────────────────┬────────────────┬────────────────────────┬─────────────────────┬──────────────────────────┐\n",
       "│ market_id │     created_at      │ actual_delivery_time │             store_id             │ store_primary_category │ order_protocol │ total_items │ subtotal │ num_distinct_items │ min_item_price │ max_item_price │ total_onshift_partners │ total_busy_partners │ total_outstanding_orders │\n",
       "│  double   │       varchar       │       varchar        │             varchar              │        varchar         │     double     │    int64    │  int64   │       int64        │     double     │     double     │         double         │       double        │          double          │\n",
       "├───────────┼─────────────────────┼──────────────────────┼──────────────────────────────────┼────────────────────────┼────────────────┼─────────────┼──────────┼────────────────────┼────────────────┼────────────────┼────────────────────────┼─────────────────────┼──────────────────────────┤\n",
       "│       1.0 │ 2015-01-27 02:29:00 │ 2015-01-27 03:30:45  │ 5a01f0597ac4bdf35c24846734ee9a76 │ japanese               │            1.0 │           1 │     1150 │                  1 │         1150.0 │         1150.0 │                    0.0 │                 0.0 │                      0.0 │\n",
       "│       1.0 │ 2015-02-08 00:56:26 │ 2015-02-08 01:50:48  │ 5a01f0597ac4bdf35c24846734ee9a76 │ japanese               │            1.0 │           4 │     4805 │                  2 │         1095.0 │         1195.0 │                    0.0 │                 0.0 │                      0.0 │\n",
       "│       1.0 │ 2015-01-24 04:01:10 │ 2015-01-24 04:28:57  │ 5a01f0597ac4bdf35c24846734ee9a76 │ japanese               │            1.0 │           7 │     5200 │                  5 │          225.0 │         1095.0 │                    0.0 │                 0.0 │                      0.0 │\n",
       "│       1.0 │ 2015-02-01 06:20:26 │ 2015-02-01 06:55:26  │ 5a01f0597ac4bdf35c24846734ee9a76 │ japanese               │            1.0 │           3 │     2910 │                  3 │          595.0 │         1095.0 │                    0.0 │                 0.0 │                      0.0 │\n",
       "│       1.0 │ 2015-02-14 03:10:56 │ 2015-02-14 04:12:41  │ 5a01f0597ac4bdf35c24846734ee9a76 │ japanese               │            1.0 │           2 │     2495 │                  2 │         1095.0 │         1150.0 │                    0.0 │                 0.0 │                      0.0 │\n",
       "│       1.0 │ 2015-02-04 19:28:18 │ 2015-02-04 20:11:13  │ 5a01f0597ac4bdf35c24846734ee9a76 │ japanese               │            1.0 │           2 │     2345 │                  2 │         1150.0 │         1195.0 │                    0.0 │                 0.0 │                      0.0 │\n",
       "│       1.0 │ 2015-01-25 03:22:11 │ 2015-01-25 04:14:22  │ 5a01f0597ac4bdf35c24846734ee9a76 │ japanese               │            1.0 │           1 │     1250 │                  1 │         1150.0 │         1150.0 │                    0.0 │                 0.0 │                      0.0 │\n",
       "│       1.0 │ 2015-02-08 23:06:13 │ 2015-02-08 23:42:58  │ 5a01f0597ac4bdf35c24846734ee9a76 │ japanese               │            1.0 │           2 │     1190 │                  2 │          595.0 │          595.0 │                    0.0 │                 0.0 │                      0.0 │\n",
       "│       1.0 │ 2015-01-23 02:45:55 │ 2015-01-23 03:32:26  │ 5a01f0597ac4bdf35c24846734ee9a76 │ japanese               │            1.0 │           7 │     5035 │                  5 │          195.0 │         1150.0 │                    0.0 │                 0.0 │                      0.0 │\n",
       "│       1.0 │ 2015-01-23 05:03:26 │ 2015-01-23 05:56:30  │ 5a01f0597ac4bdf35c24846734ee9a76 │ japanese               │            1.0 │           3 │     2065 │                  3 │          195.0 │         1150.0 │                    0.0 │                 0.0 │                      0.0 │\n",
       "│        ·  │          ·          │          ·           │                ·                 │    ·                   │             ·  │           · │       ·  │                  · │            ·   │            ·   │                     ·  │                  ·  │                       ·  │\n",
       "│        ·  │          ·          │          ·           │                ·                 │    ·                   │             ·  │           · │       ·  │                  · │            ·   │            ·   │                     ·  │                  ·  │                       ·  │\n",
       "│        ·  │          ·          │          ·           │                ·                 │    ·                   │             ·  │           · │       ·  │                  · │            ·   │            ·   │                     ·  │                  ·  │                       ·  │\n",
       "│       3.0 │ 2015-01-28 16:18:30 │ 2015-01-28 17:33:30  │ dfb61b74af460c2fd68bb8266f9f0814 │ breakfast              │            1.0 │           2 │     1640 │                  2 │          615.0 │          925.0 │                    0.0 │                 0.0 │                      0.0 │\n",
       "│       3.0 │ 2015-02-17 19:03:53 │ 2015-02-17 19:51:14  │ dfb61b74af460c2fd68bb8266f9f0814 │ breakfast              │            1.0 │           3 │     2500 │                  3 │          500.0 │          975.0 │                    0.0 │                 0.0 │                      0.0 │\n",
       "│       3.0 │ 2015-02-14 17:31:55 │ 2015-02-14 18:24:49  │ dfb61b74af460c2fd68bb8266f9f0814 │ breakfast              │            1.0 │           3 │     2700 │                  3 │          650.0 │          975.0 │                    0.0 │                 0.0 │                      0.0 │\n",
       "│       3.0 │ 2015-02-10 19:03:48 │ 2015-02-10 20:26:52  │ dfb61b74af460c2fd68bb8266f9f0814 │ breakfast              │            1.0 │           3 │     1415 │                  3 │          245.0 │          810.0 │                    0.0 │                 0.0 │                      0.0 │\n",
       "│       3.0 │ 2015-02-12 21:07:28 │ 2015-02-12 21:55:41  │ dfb61b74af460c2fd68bb8266f9f0814 │ breakfast              │            1.0 │           3 │     1415 │                  3 │          245.0 │          810.0 │                    0.0 │                 0.0 │                      0.0 │\n",
       "│       3.0 │ 2015-01-23 17:53:47 │ 2015-01-23 18:42:14  │ dfb61b74af460c2fd68bb8266f9f0814 │ breakfast              │            1.0 │           1 │      975 │                  1 │          975.0 │          975.0 │                    0.0 │                 0.0 │                      0.0 │\n",
       "│       3.0 │ 2015-02-07 15:31:33 │ 2015-02-07 16:24:02  │ dfb61b74af460c2fd68bb8266f9f0814 │ breakfast              │            1.0 │           5 │     2430 │                  4 │          270.0 │          790.0 │                    0.0 │                 0.0 │                      0.0 │\n",
       "│       3.0 │ 2015-02-08 16:11:00 │ 2015-02-08 17:36:23  │ dfb61b74af460c2fd68bb8266f9f0814 │ breakfast              │            1.0 │           4 │     2960 │                  4 │          480.0 │          925.0 │                    0.0 │                 0.0 │                      0.0 │\n",
       "│       3.0 │ 2015-01-21 17:13:16 │ 2015-01-21 17:51:09  │ dfb61b74af460c2fd68bb8266f9f0814 │ breakfast              │            1.0 │           2 │     1175 │                  2 │          345.0 │          790.0 │                    0.0 │                 0.0 │                      0.0 │\n",
       "│       3.0 │ 2015-01-24 05:56:06 │ 2015-01-24 06:27:21  │ 10e4d7889812f78893b86aeb04111871 │ mexican                │            3.0 │           1 │     2599 │                  1 │         2599.0 │         2599.0 │                    0.0 │                 0.0 │                      2.0 │\n",
       "├───────────┴─────────────────────┴──────────────────────┴──────────────────────────────────┴────────────────────────┴────────────────┴─────────────┴──────────┴────────────────────┴────────────────┴────────────────┴────────────────────────┴─────────────────────┴──────────────────────────┤\n",
       "│ 3615 rows (20 shown)                                                                                                                                                                                                                                                               14 columns │\n",
       "└───────────────────────────────────────────────────────────────────────────────────────────────────────────────────────────────────────────────────────────────────────────────────────────────────────────────────────────────────────────────────────────────────────────────────────────────┘"
      ]
     },
     "execution_count": 25,
     "metadata": {},
     "output_type": "execute_result"
    }
   ],
   "source": [
    "db.sql(\"\"\"\n",
    "    select * from df where  total_onshift_partners = 0 \n",
    "\"\"\")"
   ]
  },
  {
   "cell_type": "code",
   "execution_count": 26,
   "metadata": {},
   "outputs": [
    {
     "data": {
      "text/plain": [
       "┌───────────┬─────────────────────┬──────────────────────┬──────────────────────────────────┬────────────────────────┬────────────────┬─────────────┬──────────┬────────────────────┬────────────────┬────────────────┬────────────────────────┬─────────────────────┬──────────────────────────┐\n",
       "│ market_id │     created_at      │ actual_delivery_time │             store_id             │ store_primary_category │ order_protocol │ total_items │ subtotal │ num_distinct_items │ min_item_price │ max_item_price │ total_onshift_partners │ total_busy_partners │ total_outstanding_orders │\n",
       "│  double   │       varchar       │       varchar        │             varchar              │        varchar         │     double     │    int64    │  int64   │       int64        │     double     │     double     │         double         │       double        │          double          │\n",
       "├───────────┼─────────────────────┼──────────────────────┼──────────────────────────────────┼────────────────────────┼────────────────┼─────────────┼──────────┼────────────────────┼────────────────┼────────────────┼────────────────────────┼─────────────────────┼──────────────────────────┤\n",
       "│       1.0 │ 2015-01-27 02:29:00 │ 2015-01-27 03:30:45  │ 5a01f0597ac4bdf35c24846734ee9a76 │ japanese               │            1.0 │           1 │     1150 │                  1 │         1150.0 │         1150.0 │                    0.0 │                 0.0 │                      0.0 │\n",
       "│       1.0 │ 2015-02-08 00:56:26 │ 2015-02-08 01:50:48  │ 5a01f0597ac4bdf35c24846734ee9a76 │ japanese               │            1.0 │           4 │     4805 │                  2 │         1095.0 │         1195.0 │                    0.0 │                 0.0 │                      0.0 │\n",
       "│       1.0 │ 2015-01-24 04:01:10 │ 2015-01-24 04:28:57  │ 5a01f0597ac4bdf35c24846734ee9a76 │ japanese               │            1.0 │           7 │     5200 │                  5 │          225.0 │         1095.0 │                    0.0 │                 0.0 │                      0.0 │\n",
       "│       1.0 │ 2015-02-01 06:20:26 │ 2015-02-01 06:55:26  │ 5a01f0597ac4bdf35c24846734ee9a76 │ japanese               │            1.0 │           3 │     2910 │                  3 │          595.0 │         1095.0 │                    0.0 │                 0.0 │                      0.0 │\n",
       "│       1.0 │ 2015-02-14 03:10:56 │ 2015-02-14 04:12:41  │ 5a01f0597ac4bdf35c24846734ee9a76 │ japanese               │            1.0 │           2 │     2495 │                  2 │         1095.0 │         1150.0 │                    0.0 │                 0.0 │                      0.0 │\n",
       "│       1.0 │ 2015-02-04 19:28:18 │ 2015-02-04 20:11:13  │ 5a01f0597ac4bdf35c24846734ee9a76 │ japanese               │            1.0 │           2 │     2345 │                  2 │         1150.0 │         1195.0 │                    0.0 │                 0.0 │                      0.0 │\n",
       "│       1.0 │ 2015-01-25 03:22:11 │ 2015-01-25 04:14:22  │ 5a01f0597ac4bdf35c24846734ee9a76 │ japanese               │            1.0 │           1 │     1250 │                  1 │         1150.0 │         1150.0 │                    0.0 │                 0.0 │                      0.0 │\n",
       "│       1.0 │ 2015-02-08 23:06:13 │ 2015-02-08 23:42:58  │ 5a01f0597ac4bdf35c24846734ee9a76 │ japanese               │            1.0 │           2 │     1190 │                  2 │          595.0 │          595.0 │                    0.0 │                 0.0 │                      0.0 │\n",
       "│       1.0 │ 2015-01-23 02:45:55 │ 2015-01-23 03:32:26  │ 5a01f0597ac4bdf35c24846734ee9a76 │ japanese               │            1.0 │           7 │     5035 │                  5 │          195.0 │         1150.0 │                    0.0 │                 0.0 │                      0.0 │\n",
       "│       1.0 │ 2015-01-23 05:03:26 │ 2015-01-23 05:56:30  │ 5a01f0597ac4bdf35c24846734ee9a76 │ japanese               │            1.0 │           3 │     2065 │                  3 │          195.0 │         1150.0 │                    0.0 │                 0.0 │                      0.0 │\n",
       "│        ·  │          ·          │          ·           │                ·                 │    ·                   │             ·  │           · │       ·  │                  · │            ·   │            ·   │                     ·  │                  ·  │                       ·  │\n",
       "│        ·  │          ·          │          ·           │                ·                 │    ·                   │             ·  │           · │       ·  │                  · │            ·   │            ·   │                     ·  │                  ·  │                       ·  │\n",
       "│        ·  │          ·          │          ·           │                ·                 │    ·                   │             ·  │           · │       ·  │                  · │            ·   │            ·   │                     ·  │                  ·  │                       ·  │\n",
       "│       3.0 │ 2015-01-24 17:11:50 │ 2015-01-24 18:29:10  │ dfb61b74af460c2fd68bb8266f9f0814 │ breakfast              │            1.0 │           3 │     2455 │                  3 │          480.0 │          950.0 │                    0.0 │                 0.0 │                      0.0 │\n",
       "│       3.0 │ 2015-01-28 16:18:30 │ 2015-01-28 17:33:30  │ dfb61b74af460c2fd68bb8266f9f0814 │ breakfast              │            1.0 │           2 │     1640 │                  2 │          615.0 │          925.0 │                    0.0 │                 0.0 │                      0.0 │\n",
       "│       3.0 │ 2015-02-17 19:03:53 │ 2015-02-17 19:51:14  │ dfb61b74af460c2fd68bb8266f9f0814 │ breakfast              │            1.0 │           3 │     2500 │                  3 │          500.0 │          975.0 │                    0.0 │                 0.0 │                      0.0 │\n",
       "│       3.0 │ 2015-02-14 17:31:55 │ 2015-02-14 18:24:49  │ dfb61b74af460c2fd68bb8266f9f0814 │ breakfast              │            1.0 │           3 │     2700 │                  3 │          650.0 │          975.0 │                    0.0 │                 0.0 │                      0.0 │\n",
       "│       3.0 │ 2015-02-10 19:03:48 │ 2015-02-10 20:26:52  │ dfb61b74af460c2fd68bb8266f9f0814 │ breakfast              │            1.0 │           3 │     1415 │                  3 │          245.0 │          810.0 │                    0.0 │                 0.0 │                      0.0 │\n",
       "│       3.0 │ 2015-02-12 21:07:28 │ 2015-02-12 21:55:41  │ dfb61b74af460c2fd68bb8266f9f0814 │ breakfast              │            1.0 │           3 │     1415 │                  3 │          245.0 │          810.0 │                    0.0 │                 0.0 │                      0.0 │\n",
       "│       3.0 │ 2015-01-23 17:53:47 │ 2015-01-23 18:42:14  │ dfb61b74af460c2fd68bb8266f9f0814 │ breakfast              │            1.0 │           1 │      975 │                  1 │          975.0 │          975.0 │                    0.0 │                 0.0 │                      0.0 │\n",
       "│       3.0 │ 2015-02-07 15:31:33 │ 2015-02-07 16:24:02  │ dfb61b74af460c2fd68bb8266f9f0814 │ breakfast              │            1.0 │           5 │     2430 │                  4 │          270.0 │          790.0 │                    0.0 │                 0.0 │                      0.0 │\n",
       "│       3.0 │ 2015-02-08 16:11:00 │ 2015-02-08 17:36:23  │ dfb61b74af460c2fd68bb8266f9f0814 │ breakfast              │            1.0 │           4 │     2960 │                  4 │          480.0 │          925.0 │                    0.0 │                 0.0 │                      0.0 │\n",
       "│       3.0 │ 2015-01-21 17:13:16 │ 2015-01-21 17:51:09  │ dfb61b74af460c2fd68bb8266f9f0814 │ breakfast              │            1.0 │           2 │     1175 │                  2 │          345.0 │          790.0 │                    0.0 │                 0.0 │                      0.0 │\n",
       "├───────────┴─────────────────────┴──────────────────────┴──────────────────────────────────┴────────────────────────┴────────────────┴─────────────┴──────────┴────────────────────┴────────────────┴────────────────┴────────────────────────┴─────────────────────┴──────────────────────────┤\n",
       "│ 3415 rows (20 shown)                                                                                                                                                                                                                                                               14 columns │\n",
       "└───────────────────────────────────────────────────────────────────────────────────────────────────────────────────────────────────────────────────────────────────────────────────────────────────────────────────────────────────────────────────────────────────────────────────────────────┘"
      ]
     },
     "execution_count": 26,
     "metadata": {},
     "output_type": "execute_result"
    }
   ],
   "source": [
    "db.sql(\"\"\"\n",
    "    select * from df where total_busy_partners = 0 and total_onshift_partners = 0 and total_outstanding_orders = 0\n",
    "\"\"\")"
   ]
  },
  {
   "cell_type": "code",
   "execution_count": 27,
   "metadata": {},
   "outputs": [],
   "source": [
    "df=df.filter(\n",
    "    ~(pl.col(\"total_onshift_partners\") == 0) \n",
    ")"
   ]
  },
  {
   "cell_type": "code",
   "execution_count": 28,
   "metadata": {},
   "outputs": [
    {
     "data": {
      "text/html": [
       "<div><style>\n",
       ".dataframe > thead > tr,\n",
       ".dataframe > tbody > tr {\n",
       "  text-align: right;\n",
       "  white-space: pre-wrap;\n",
       "}\n",
       "</style>\n",
       "<small>shape: (9, 15)</small><table border=\"1\" class=\"dataframe\"><thead><tr><th>statistic</th><th>market_id</th><th>created_at</th><th>actual_delivery_time</th><th>store_id</th><th>store_primary_category</th><th>order_protocol</th><th>total_items</th><th>subtotal</th><th>num_distinct_items</th><th>min_item_price</th><th>max_item_price</th><th>total_onshift_partners</th><th>total_busy_partners</th><th>total_outstanding_orders</th></tr><tr><td>str</td><td>f64</td><td>str</td><td>str</td><td>str</td><td>str</td><td>f64</td><td>f64</td><td>f64</td><td>f64</td><td>f64</td><td>f64</td><td>f64</td><td>f64</td><td>f64</td></tr></thead><tbody><tr><td>&quot;count&quot;</td><td>176642.0</td><td>&quot;177544&quot;</td><td>&quot;177544&quot;</td><td>&quot;177544&quot;</td><td>&quot;173383&quot;</td><td>176640.0</td><td>177544.0</td><td>177544.0</td><td>177544.0</td><td>177544.0</td><td>177544.0</td><td>177544.0</td><td>177544.0</td><td>177544.0</td></tr><tr><td>&quot;null_count&quot;</td><td>902.0</td><td>&quot;0&quot;</td><td>&quot;0&quot;</td><td>&quot;0&quot;</td><td>&quot;4161&quot;</td><td>904.0</td><td>0.0</td><td>0.0</td><td>0.0</td><td>0.0</td><td>0.0</td><td>0.0</td><td>0.0</td><td>0.0</td></tr><tr><td>&quot;mean&quot;</td><td>2.767864</td><td>null</td><td>null</td><td>null</td><td>null</td><td>2.898687</td><td>3.205588</td><td>2701.713919</td><td>2.675618</td><td>692.093454</td><td>1164.986471</td><td>45.719624</td><td>42.58813</td><td>59.228873</td></tr><tr><td>&quot;std&quot;</td><td>1.329898</td><td>null</td><td>null</td><td>null</td><td>null</td><td>1.513229</td><td>2.67464</td><td>1829.211488</td><td>1.62441</td><td>516.496735</td><td>559.219301</td><td>34.271843</td><td>31.909024</td><td>52.532368</td></tr><tr><td>&quot;min&quot;</td><td>1.0</td><td>&quot;2015-01-21 15:22:03&quot;</td><td>&quot;2015-01-21 15:58:11&quot;</td><td>&quot;0004d0b59e19461ff126e3a08a814c…</td><td>&quot;afghan&quot;</td><td>1.0</td><td>1.0</td><td>0.0</td><td>1.0</td><td>1.0</td><td>52.0</td><td>1.0</td><td>0.0</td><td>0.0</td></tr><tr><td>&quot;25%&quot;</td><td>2.0</td><td>null</td><td>null</td><td>null</td><td>null</td><td>1.0</td><td>2.0</td><td>1420.0</td><td>2.0</td><td>300.0</td><td>799.0</td><td>18.0</td><td>16.0</td><td>18.0</td></tr><tr><td>&quot;50%&quot;</td><td>2.0</td><td>null</td><td>null</td><td>null</td><td>null</td><td>3.0</td><td>3.0</td><td>2228.0</td><td>2.0</td><td>599.0</td><td>1095.0</td><td>38.0</td><td>35.0</td><td>42.0</td></tr><tr><td>&quot;75%&quot;</td><td>4.0</td><td>null</td><td>null</td><td>null</td><td>null</td><td>4.0</td><td>4.0</td><td>3421.0</td><td>3.0</td><td>943.0</td><td>1397.0</td><td>66.0</td><td>63.0</td><td>86.0</td></tr><tr><td>&quot;max&quot;</td><td>6.0</td><td>&quot;2015-02-18 06:00:44&quot;</td><td>&quot;2015-02-19 22:45:31&quot;</td><td>&quot;ffeabd223de0d4eacb9a3e6e53e544…</td><td>&quot;vietnamese&quot;</td><td>7.0</td><td>411.0</td><td>26800.0</td><td>20.0</td><td>14700.0</td><td>14700.0</td><td>171.0</td><td>154.0</td><td>285.0</td></tr></tbody></table></div>"
      ],
      "text/plain": [
       "shape: (9, 15)\n",
       "┌───────────┬───────────┬───────────┬───────────┬───┬───────────┬───────────┬───────────┬──────────┐\n",
       "│ statistic ┆ market_id ┆ created_a ┆ actual_de ┆ … ┆ max_item_ ┆ total_ons ┆ total_bus ┆ total_ou │\n",
       "│ ---       ┆ ---       ┆ t         ┆ livery_ti ┆   ┆ price     ┆ hift_part ┆ y_partner ┆ tstandin │\n",
       "│ str       ┆ f64       ┆ ---       ┆ me        ┆   ┆ ---       ┆ ners      ┆ s         ┆ g_orders │\n",
       "│           ┆           ┆ str       ┆ ---       ┆   ┆ f64       ┆ ---       ┆ ---       ┆ ---      │\n",
       "│           ┆           ┆           ┆ str       ┆   ┆           ┆ f64       ┆ f64       ┆ f64      │\n",
       "╞═══════════╪═══════════╪═══════════╪═══════════╪═══╪═══════════╪═══════════╪═══════════╪══════════╡\n",
       "│ count     ┆ 176642.0  ┆ 177544    ┆ 177544    ┆ … ┆ 177544.0  ┆ 177544.0  ┆ 177544.0  ┆ 177544.0 │\n",
       "│ null_coun ┆ 902.0     ┆ 0         ┆ 0         ┆ … ┆ 0.0       ┆ 0.0       ┆ 0.0       ┆ 0.0      │\n",
       "│ t         ┆           ┆           ┆           ┆   ┆           ┆           ┆           ┆          │\n",
       "│ mean      ┆ 2.767864  ┆ null      ┆ null      ┆ … ┆ 1164.9864 ┆ 45.719624 ┆ 42.58813  ┆ 59.22887 │\n",
       "│           ┆           ┆           ┆           ┆   ┆ 71        ┆           ┆           ┆ 3        │\n",
       "│ std       ┆ 1.329898  ┆ null      ┆ null      ┆ … ┆ 559.21930 ┆ 34.271843 ┆ 31.909024 ┆ 52.53236 │\n",
       "│           ┆           ┆           ┆           ┆   ┆ 1         ┆           ┆           ┆ 8        │\n",
       "│ min       ┆ 1.0       ┆ 2015-01-2 ┆ 2015-01-2 ┆ … ┆ 52.0      ┆ 1.0       ┆ 0.0       ┆ 0.0      │\n",
       "│           ┆           ┆ 1         ┆ 1         ┆   ┆           ┆           ┆           ┆          │\n",
       "│           ┆           ┆ 15:22:03  ┆ 15:58:11  ┆   ┆           ┆           ┆           ┆          │\n",
       "│ 25%       ┆ 2.0       ┆ null      ┆ null      ┆ … ┆ 799.0     ┆ 18.0      ┆ 16.0      ┆ 18.0     │\n",
       "│ 50%       ┆ 2.0       ┆ null      ┆ null      ┆ … ┆ 1095.0    ┆ 38.0      ┆ 35.0      ┆ 42.0     │\n",
       "│ 75%       ┆ 4.0       ┆ null      ┆ null      ┆ … ┆ 1397.0    ┆ 66.0      ┆ 63.0      ┆ 86.0     │\n",
       "│ max       ┆ 6.0       ┆ 2015-02-1 ┆ 2015-02-1 ┆ … ┆ 14700.0   ┆ 171.0     ┆ 154.0     ┆ 285.0    │\n",
       "│           ┆           ┆ 8         ┆ 9         ┆   ┆           ┆           ┆           ┆          │\n",
       "│           ┆           ┆ 06:00:44  ┆ 22:45:31  ┆   ┆           ┆           ┆           ┆          │\n",
       "└───────────┴───────────┴───────────┴───────────┴───┴───────────┴───────────┴───────────┴──────────┘"
      ]
     },
     "execution_count": 28,
     "metadata": {},
     "output_type": "execute_result"
    }
   ],
   "source": [
    "df.describe()"
   ]
  },
  {
   "cell_type": "code",
   "execution_count": 29,
   "metadata": {},
   "outputs": [],
   "source": [
    "category_per_store = df.group_by(\"store_id\").agg(\n",
    "    pl.col(\"store_primary_category\").mode().first().alias(\"store_primary_category_name\")\n",
    ")\n",
    "category_per_store = category_per_store.fill_null(\"other\")"
   ]
  },
  {
   "cell_type": "code",
   "execution_count": 30,
   "metadata": {},
   "outputs": [],
   "source": [
    "df = df.join(category_per_store, on=\"store_id\", how=\"left\")"
   ]
  },
  {
   "cell_type": "code",
   "execution_count": 31,
   "metadata": {},
   "outputs": [],
   "source": [
    "df = df.with_columns(\n",
    "   pl.when(pl.col(\"store_primary_category\").is_null()).then(pl.col(\"store_primary_category_name\")).otherwise(pl.col(\"store_primary_category\")).alias(\"store_primary_category\")\n",
    ").drop(\"store_primary_category_name\")"
   ]
  },
  {
   "cell_type": "code",
   "execution_count": 32,
   "metadata": {},
   "outputs": [],
   "source": [
    "market_id_per_store = df.group_by(\"store_id\").agg(\n",
    "    pl.col(\"market_id\").mode().first().alias(\"market_id_num\")\n",
    ")\n",
    "market_id_per_store = market_id_per_store.fill_null(pl.col(\"market_id_num\").mode().first())"
   ]
  },
  {
   "cell_type": "code",
   "execution_count": 33,
   "metadata": {},
   "outputs": [],
   "source": [
    "df = df.join(market_id_per_store, on=\"store_id\", how=\"left\")"
   ]
  },
  {
   "cell_type": "code",
   "execution_count": 34,
   "metadata": {},
   "outputs": [],
   "source": [
    "df = df.with_columns(\n",
    "   pl.when(pl.col(\"market_id\").is_null()).then(pl.col(\"market_id_num\")).otherwise(pl.col(\"market_id\")).alias(\"market_id\")\n",
    ").drop(\"market_id_num\")"
   ]
  },
  {
   "cell_type": "code",
   "execution_count": 35,
   "metadata": {},
   "outputs": [
    {
     "data": {
      "text/html": [
       "<div><style>\n",
       ".dataframe > thead > tr,\n",
       ".dataframe > tbody > tr {\n",
       "  text-align: right;\n",
       "  white-space: pre-wrap;\n",
       "}\n",
       "</style>\n",
       "<small>shape: (1, 14)</small><table border=\"1\" class=\"dataframe\"><thead><tr><th>market_id</th><th>created_at</th><th>actual_delivery_time</th><th>store_id</th><th>store_primary_category</th><th>order_protocol</th><th>total_items</th><th>subtotal</th><th>num_distinct_items</th><th>min_item_price</th><th>max_item_price</th><th>total_onshift_partners</th><th>total_busy_partners</th><th>total_outstanding_orders</th></tr><tr><td>u32</td><td>u32</td><td>u32</td><td>u32</td><td>u32</td><td>u32</td><td>u32</td><td>u32</td><td>u32</td><td>u32</td><td>u32</td><td>u32</td><td>u32</td><td>u32</td></tr></thead><tbody><tr><td>0</td><td>0</td><td>0</td><td>0</td><td>0</td><td>904</td><td>0</td><td>0</td><td>0</td><td>0</td><td>0</td><td>0</td><td>0</td><td>0</td></tr></tbody></table></div>"
      ],
      "text/plain": [
       "shape: (1, 14)\n",
       "┌───────────┬───────────┬───────────┬──────────┬───┬───────────┬───────────┬───────────┬───────────┐\n",
       "│ market_id ┆ created_a ┆ actual_de ┆ store_id ┆ … ┆ max_item_ ┆ total_ons ┆ total_bus ┆ total_out │\n",
       "│ ---       ┆ t         ┆ livery_ti ┆ ---      ┆   ┆ price     ┆ hift_part ┆ y_partner ┆ standing_ │\n",
       "│ u32       ┆ ---       ┆ me        ┆ u32      ┆   ┆ ---       ┆ ners      ┆ s         ┆ orders    │\n",
       "│           ┆ u32       ┆ ---       ┆          ┆   ┆ u32       ┆ ---       ┆ ---       ┆ ---       │\n",
       "│           ┆           ┆ u32       ┆          ┆   ┆           ┆ u32       ┆ u32       ┆ u32       │\n",
       "╞═══════════╪═══════════╪═══════════╪══════════╪═══╪═══════════╪═══════════╪═══════════╪═══════════╡\n",
       "│ 0         ┆ 0         ┆ 0         ┆ 0        ┆ … ┆ 0         ┆ 0         ┆ 0         ┆ 0         │\n",
       "└───────────┴───────────┴───────────┴──────────┴───┴───────────┴───────────┴───────────┴───────────┘"
      ]
     },
     "execution_count": 35,
     "metadata": {},
     "output_type": "execute_result"
    }
   ],
   "source": [
    "df.null_count()"
   ]
  },
  {
   "cell_type": "code",
   "execution_count": 36,
   "metadata": {},
   "outputs": [],
   "source": [
    "df = df.with_columns(\n",
    "    pl.col(\"created_at\").str.to_datetime(),\n",
    "    pl.col(\"actual_delivery_time\").str.to_datetime()\n",
    ")"
   ]
  },
  {
   "cell_type": "markdown",
   "metadata": {},
   "source": [
    "**Time based feature generation**"
   ]
  },
  {
   "cell_type": "code",
   "execution_count": 40,
   "metadata": {},
   "outputs": [],
   "source": [
    "df=df.with_columns(\n",
    "    pl.col(\"created_at\").dt.offset_by('-5h30m'),\n",
    "    pl.col(\"actual_delivery_time\").dt.offset_by('-5h30m')\n",
    ")"
   ]
  },
  {
   "cell_type": "code",
   "execution_count": 41,
   "metadata": {},
   "outputs": [],
   "source": [
    "df = df.with_columns(\n",
    "    pl.col(\"created_at\").dt.year().alias(\"created_at_year\"),\n",
    "    pl.col(\"created_at\").dt.month().alias(\"created_at_month\"),\n",
    "    pl.col(\"created_at\").dt.day().alias(\"created_at_day\"),\n",
    "    pl.col(\"created_at\").dt.hour().alias(\"created_at_hour\"),\n",
    "    pl.col(\"created_at\").dt.minute().alias(\"created_at_minute\"),\n",
    "    pl.col(\"created_at\").dt.second().alias(\"created_at_second\"),\n",
    "    pl.col(\"actual_delivery_time\").dt.year().alias(\"actual_delivery_time_year\"),\n",
    "    pl.col(\"actual_delivery_time\").dt.month().alias(\"actual_delivery_time_month\"),\n",
    "    pl.col(\"actual_delivery_time\").dt.day().alias(\"actual_delivery_time_day\"),\n",
    "    pl.col(\"actual_delivery_time\").dt.hour().alias(\"actual_delivery_time_hour\"),\n",
    "    pl.col(\"actual_delivery_time\").dt.minute().alias(\"actual_delivery_time_minute\"),\n",
    "    pl.col(\"actual_delivery_time\").dt.second().alias(\"actual_delivery_time_second\")\n",
    ")"
   ]
  },
  {
   "cell_type": "code",
   "execution_count": 42,
   "metadata": {},
   "outputs": [
    {
     "data": {
      "text/html": [
       "<div><style>\n",
       ".dataframe > thead > tr,\n",
       ".dataframe > tbody > tr {\n",
       "  text-align: right;\n",
       "  white-space: pre-wrap;\n",
       "}\n",
       "</style>\n",
       "<small>shape: (177_544, 26)</small><table border=\"1\" class=\"dataframe\"><thead><tr><th>market_id</th><th>created_at</th><th>actual_delivery_time</th><th>store_id</th><th>store_primary_category</th><th>order_protocol</th><th>total_items</th><th>subtotal</th><th>num_distinct_items</th><th>min_item_price</th><th>max_item_price</th><th>total_onshift_partners</th><th>total_busy_partners</th><th>total_outstanding_orders</th><th>created_at_year</th><th>created_at_month</th><th>created_at_day</th><th>created_at_hour</th><th>created_at_minute</th><th>created_at_second</th><th>actual_delivery_time_year</th><th>actual_delivery_time_month</th><th>actual_delivery_time_day</th><th>actual_delivery_time_hour</th><th>actual_delivery_time_minute</th><th>actual_delivery_time_second</th></tr><tr><td>f64</td><td>datetime[μs]</td><td>datetime[μs]</td><td>str</td><td>str</td><td>f64</td><td>i64</td><td>i64</td><td>i64</td><td>f64</td><td>f64</td><td>f64</td><td>f64</td><td>f64</td><td>i32</td><td>i8</td><td>i8</td><td>i8</td><td>i8</td><td>i8</td><td>i32</td><td>i8</td><td>i8</td><td>i8</td><td>i8</td><td>i8</td></tr></thead><tbody><tr><td>1.0</td><td>2015-02-06 16:54:17</td><td>2015-02-06 17:57:16</td><td>&quot;df263d996281d984952c07998dc543…</td><td>&quot;american&quot;</td><td>1.0</td><td>4</td><td>3441</td><td>4</td><td>557.0</td><td>1239.0</td><td>33.0</td><td>14.0</td><td>21.0</td><td>2015</td><td>2</td><td>6</td><td>16</td><td>54</td><td>17</td><td>2015</td><td>2</td><td>6</td><td>17</td><td>57</td><td>16</td></tr><tr><td>2.0</td><td>2015-02-10 16:19:25</td><td>2015-02-10 17:26:29</td><td>&quot;f0ade77b43923b38237db569b016ba…</td><td>&quot;mexican&quot;</td><td>2.0</td><td>1</td><td>1900</td><td>1</td><td>1400.0</td><td>1400.0</td><td>1.0</td><td>2.0</td><td>2.0</td><td>2015</td><td>2</td><td>10</td><td>16</td><td>19</td><td>25</td><td>2015</td><td>2</td><td>10</td><td>17</td><td>26</td><td>29</td></tr><tr><td>3.0</td><td>2015-01-22 15:09:28</td><td>2015-01-22 15:39:09</td><td>&quot;f0ade77b43923b38237db569b016ba…</td><td>&quot;other&quot;</td><td>1.0</td><td>1</td><td>1900</td><td>1</td><td>1900.0</td><td>1900.0</td><td>1.0</td><td>0.0</td><td>0.0</td><td>2015</td><td>1</td><td>22</td><td>15</td><td>9</td><td>28</td><td>2015</td><td>1</td><td>22</td><td>15</td><td>39</td><td>9</td></tr><tr><td>3.0</td><td>2015-02-03 15:51:45</td><td>2015-02-03 16:43:00</td><td>&quot;f0ade77b43923b38237db569b016ba…</td><td>&quot;other&quot;</td><td>1.0</td><td>6</td><td>6900</td><td>5</td><td>600.0</td><td>1800.0</td><td>1.0</td><td>1.0</td><td>2.0</td><td>2015</td><td>2</td><td>3</td><td>15</td><td>51</td><td>45</td><td>2015</td><td>2</td><td>3</td><td>16</td><td>43</td><td>0</td></tr><tr><td>3.0</td><td>2015-02-14 21:10:36</td><td>2015-02-14 21:50:26</td><td>&quot;f0ade77b43923b38237db569b016ba…</td><td>&quot;other&quot;</td><td>1.0</td><td>3</td><td>3900</td><td>3</td><td>1100.0</td><td>1600.0</td><td>6.0</td><td>6.0</td><td>9.0</td><td>2015</td><td>2</td><td>14</td><td>21</td><td>10</td><td>36</td><td>2015</td><td>2</td><td>14</td><td>21</td><td>50</td><td>26</td></tr><tr><td>&hellip;</td><td>&hellip;</td><td>&hellip;</td><td>&hellip;</td><td>&hellip;</td><td>&hellip;</td><td>&hellip;</td><td>&hellip;</td><td>&hellip;</td><td>&hellip;</td><td>&hellip;</td><td>&hellip;</td><td>&hellip;</td><td>&hellip;</td><td>&hellip;</td><td>&hellip;</td><td>&hellip;</td><td>&hellip;</td><td>&hellip;</td><td>&hellip;</td><td>&hellip;</td><td>&hellip;</td><td>&hellip;</td><td>&hellip;</td><td>&hellip;</td><td>&hellip;</td></tr><tr><td>1.0</td><td>2015-02-16 18:49:41</td><td>2015-02-16 19:54:48</td><td>&quot;a914ecef9c12ffdb9bede64bb703d8…</td><td>&quot;fast&quot;</td><td>4.0</td><td>3</td><td>1389</td><td>3</td><td>345.0</td><td>649.0</td><td>17.0</td><td>17.0</td><td>23.0</td><td>2015</td><td>2</td><td>16</td><td>18</td><td>49</td><td>41</td><td>2015</td><td>2</td><td>16</td><td>19</td><td>54</td><td>48</td></tr><tr><td>1.0</td><td>2015-02-12 18:31:59</td><td>2015-02-12 19:28:22</td><td>&quot;a914ecef9c12ffdb9bede64bb703d8…</td><td>&quot;fast&quot;</td><td>4.0</td><td>6</td><td>3010</td><td>4</td><td>405.0</td><td>825.0</td><td>12.0</td><td>11.0</td><td>14.0</td><td>2015</td><td>2</td><td>12</td><td>18</td><td>31</td><td>59</td><td>2015</td><td>2</td><td>12</td><td>19</td><td>28</td><td>22</td></tr><tr><td>1.0</td><td>2015-01-23 23:16:08</td><td>2015-01-24 00:06:16</td><td>&quot;a914ecef9c12ffdb9bede64bb703d8…</td><td>&quot;fast&quot;</td><td>4.0</td><td>5</td><td>1836</td><td>3</td><td>300.0</td><td>399.0</td><td>39.0</td><td>41.0</td><td>40.0</td><td>2015</td><td>1</td><td>23</td><td>23</td><td>16</td><td>8</td><td>2015</td><td>1</td><td>24</td><td>0</td><td>6</td><td>16</td></tr><tr><td>1.0</td><td>2015-02-01 12:48:15</td><td>2015-02-01 13:53:22</td><td>&quot;c81e155d85dae5430a8cee6f2242e8…</td><td>&quot;sandwich&quot;</td><td>1.0</td><td>1</td><td>1175</td><td>1</td><td>535.0</td><td>535.0</td><td>7.0</td><td>7.0</td><td>12.0</td><td>2015</td><td>2</td><td>1</td><td>12</td><td>48</td><td>15</td><td>2015</td><td>2</td><td>1</td><td>13</td><td>53</td><td>22</td></tr><tr><td>1.0</td><td>2015-02-08 13:54:33</td><td>2015-02-08 14:31:41</td><td>&quot;c81e155d85dae5430a8cee6f2242e8…</td><td>&quot;sandwich&quot;</td><td>1.0</td><td>4</td><td>2605</td><td>4</td><td>425.0</td><td>750.0</td><td>20.0</td><td>20.0</td><td>23.0</td><td>2015</td><td>2</td><td>8</td><td>13</td><td>54</td><td>33</td><td>2015</td><td>2</td><td>8</td><td>14</td><td>31</td><td>41</td></tr></tbody></table></div>"
      ],
      "text/plain": [
       "shape: (177_544, 26)\n",
       "┌───────────┬───────────┬───────────┬───────────┬───┬───────────┬───────────┬───────────┬──────────┐\n",
       "│ market_id ┆ created_a ┆ actual_de ┆ store_id  ┆ … ┆ actual_de ┆ actual_de ┆ actual_de ┆ actual_d │\n",
       "│ ---       ┆ t         ┆ livery_ti ┆ ---       ┆   ┆ livery_ti ┆ livery_ti ┆ livery_ti ┆ elivery_ │\n",
       "│ f64       ┆ ---       ┆ me        ┆ str       ┆   ┆ me_day    ┆ me_hour   ┆ me_minute ┆ time_sec │\n",
       "│           ┆ datetime[ ┆ ---       ┆           ┆   ┆ ---       ┆ ---       ┆ ---       ┆ ond      │\n",
       "│           ┆ μs]       ┆ datetime[ ┆           ┆   ┆ i8        ┆ i8        ┆ i8        ┆ ---      │\n",
       "│           ┆           ┆ μs]       ┆           ┆   ┆           ┆           ┆           ┆ i8       │\n",
       "╞═══════════╪═══════════╪═══════════╪═══════════╪═══╪═══════════╪═══════════╪═══════════╪══════════╡\n",
       "│ 1.0       ┆ 2015-02-0 ┆ 2015-02-0 ┆ df263d996 ┆ … ┆ 6         ┆ 17        ┆ 57        ┆ 16       │\n",
       "│           ┆ 6         ┆ 6         ┆ 281d98495 ┆   ┆           ┆           ┆           ┆          │\n",
       "│           ┆ 16:54:17  ┆ 17:57:16  ┆ 2c07998dc ┆   ┆           ┆           ┆           ┆          │\n",
       "│           ┆           ┆           ┆ 543…      ┆   ┆           ┆           ┆           ┆          │\n",
       "│ 2.0       ┆ 2015-02-1 ┆ 2015-02-1 ┆ f0ade77b4 ┆ … ┆ 10        ┆ 17        ┆ 26        ┆ 29       │\n",
       "│           ┆ 0         ┆ 0         ┆ 3923b3823 ┆   ┆           ┆           ┆           ┆          │\n",
       "│           ┆ 16:19:25  ┆ 17:26:29  ┆ 7db569b01 ┆   ┆           ┆           ┆           ┆          │\n",
       "│           ┆           ┆           ┆ 6ba…      ┆   ┆           ┆           ┆           ┆          │\n",
       "│ 3.0       ┆ 2015-01-2 ┆ 2015-01-2 ┆ f0ade77b4 ┆ … ┆ 22        ┆ 15        ┆ 39        ┆ 9        │\n",
       "│           ┆ 2         ┆ 2         ┆ 3923b3823 ┆   ┆           ┆           ┆           ┆          │\n",
       "│           ┆ 15:09:28  ┆ 15:39:09  ┆ 7db569b01 ┆   ┆           ┆           ┆           ┆          │\n",
       "│           ┆           ┆           ┆ 6ba…      ┆   ┆           ┆           ┆           ┆          │\n",
       "│ 3.0       ┆ 2015-02-0 ┆ 2015-02-0 ┆ f0ade77b4 ┆ … ┆ 3         ┆ 16        ┆ 43        ┆ 0        │\n",
       "│           ┆ 3         ┆ 3         ┆ 3923b3823 ┆   ┆           ┆           ┆           ┆          │\n",
       "│           ┆ 15:51:45  ┆ 16:43:00  ┆ 7db569b01 ┆   ┆           ┆           ┆           ┆          │\n",
       "│           ┆           ┆           ┆ 6ba…      ┆   ┆           ┆           ┆           ┆          │\n",
       "│ 3.0       ┆ 2015-02-1 ┆ 2015-02-1 ┆ f0ade77b4 ┆ … ┆ 14        ┆ 21        ┆ 50        ┆ 26       │\n",
       "│           ┆ 4         ┆ 4         ┆ 3923b3823 ┆   ┆           ┆           ┆           ┆          │\n",
       "│           ┆ 21:10:36  ┆ 21:50:26  ┆ 7db569b01 ┆   ┆           ┆           ┆           ┆          │\n",
       "│           ┆           ┆           ┆ 6ba…      ┆   ┆           ┆           ┆           ┆          │\n",
       "│ …         ┆ …         ┆ …         ┆ …         ┆ … ┆ …         ┆ …         ┆ …         ┆ …        │\n",
       "│ 1.0       ┆ 2015-02-1 ┆ 2015-02-1 ┆ a914ecef9 ┆ … ┆ 16        ┆ 19        ┆ 54        ┆ 48       │\n",
       "│           ┆ 6         ┆ 6         ┆ c12ffdb9b ┆   ┆           ┆           ┆           ┆          │\n",
       "│           ┆ 18:49:41  ┆ 19:54:48  ┆ ede64bb70 ┆   ┆           ┆           ┆           ┆          │\n",
       "│           ┆           ┆           ┆ 3d8…      ┆   ┆           ┆           ┆           ┆          │\n",
       "│ 1.0       ┆ 2015-02-1 ┆ 2015-02-1 ┆ a914ecef9 ┆ … ┆ 12        ┆ 19        ┆ 28        ┆ 22       │\n",
       "│           ┆ 2         ┆ 2         ┆ c12ffdb9b ┆   ┆           ┆           ┆           ┆          │\n",
       "│           ┆ 18:31:59  ┆ 19:28:22  ┆ ede64bb70 ┆   ┆           ┆           ┆           ┆          │\n",
       "│           ┆           ┆           ┆ 3d8…      ┆   ┆           ┆           ┆           ┆          │\n",
       "│ 1.0       ┆ 2015-01-2 ┆ 2015-01-2 ┆ a914ecef9 ┆ … ┆ 24        ┆ 0         ┆ 6         ┆ 16       │\n",
       "│           ┆ 3         ┆ 4         ┆ c12ffdb9b ┆   ┆           ┆           ┆           ┆          │\n",
       "│           ┆ 23:16:08  ┆ 00:06:16  ┆ ede64bb70 ┆   ┆           ┆           ┆           ┆          │\n",
       "│           ┆           ┆           ┆ 3d8…      ┆   ┆           ┆           ┆           ┆          │\n",
       "│ 1.0       ┆ 2015-02-0 ┆ 2015-02-0 ┆ c81e155d8 ┆ … ┆ 1         ┆ 13        ┆ 53        ┆ 22       │\n",
       "│           ┆ 1         ┆ 1         ┆ 5dae5430a ┆   ┆           ┆           ┆           ┆          │\n",
       "│           ┆ 12:48:15  ┆ 13:53:22  ┆ 8cee6f224 ┆   ┆           ┆           ┆           ┆          │\n",
       "│           ┆           ┆           ┆ 2e8…      ┆   ┆           ┆           ┆           ┆          │\n",
       "│ 1.0       ┆ 2015-02-0 ┆ 2015-02-0 ┆ c81e155d8 ┆ … ┆ 8         ┆ 14        ┆ 31        ┆ 41       │\n",
       "│           ┆ 8         ┆ 8         ┆ 5dae5430a ┆   ┆           ┆           ┆           ┆          │\n",
       "│           ┆ 13:54:33  ┆ 14:31:41  ┆ 8cee6f224 ┆   ┆           ┆           ┆           ┆          │\n",
       "│           ┆           ┆           ┆ 2e8…      ┆   ┆           ┆           ┆           ┆          │\n",
       "└───────────┴───────────┴───────────┴───────────┴───┴───────────┴───────────┴───────────┴──────────┘"
      ]
     },
     "execution_count": 42,
     "metadata": {},
     "output_type": "execute_result"
    }
   ],
   "source": [
    "df"
   ]
  },
  {
   "cell_type": "code",
   "execution_count": 43,
   "metadata": {},
   "outputs": [],
   "source": [
    "cols=[\n",
    " 'order_protocol',\n",
    " 'total_items',\n",
    " 'subtotal',\n",
    " 'num_distinct_items',\n",
    " 'min_item_price',\n",
    " 'max_item_price',\n",
    " 'total_onshift_partners',\n",
    " 'total_busy_partners',\n",
    " 'total_outstanding_orders',\n",
    " 'created_at_year',\n",
    " 'created_at_month',\n",
    " 'created_at_day',\n",
    " 'created_at_hour',\n",
    " 'created_at_minute',\n",
    " 'actual_delivery_time_year',\n",
    " 'actual_delivery_time_month',\n",
    " 'actual_delivery_time_day',\n",
    " 'actual_delivery_time_hour',\n",
    " 'actual_delivery_time_minute'\n",
    " ]"
   ]
  },
  {
   "cell_type": "code",
   "execution_count": 44,
   "metadata": {},
   "outputs": [],
   "source": [
    "# scaler = StandardScaler()\n",
    "# scaled_features = scaler.fit_transform(df[cols].to_numpy())\n",
    "knn_imputer = KNNImputer(n_neighbors=3)\n",
    "imputed_features = knn_imputer.fit_transform(df[cols].to_numpy())"
   ]
  },
  {
   "cell_type": "code",
   "execution_count": 45,
   "metadata": {},
   "outputs": [
    {
     "data": {
      "text/html": [
       "<div><style>\n",
       ".dataframe > thead > tr,\n",
       ".dataframe > tbody > tr {\n",
       "  text-align: right;\n",
       "  white-space: pre-wrap;\n",
       "}\n",
       "</style>\n",
       "<small>shape: (177_544, 19)</small><table border=\"1\" class=\"dataframe\"><thead><tr><th>order_protocol</th><th>total_items</th><th>subtotal</th><th>num_distinct_items</th><th>min_item_price</th><th>max_item_price</th><th>total_onshift_partners</th><th>total_busy_partners</th><th>total_outstanding_orders</th><th>created_at_year</th><th>created_at_month</th><th>created_at_day</th><th>created_at_hour</th><th>created_at_minute</th><th>actual_delivery_time_year</th><th>actual_delivery_time_month</th><th>actual_delivery_time_day</th><th>actual_delivery_time_hour</th><th>actual_delivery_time_minute</th></tr><tr><td>f64</td><td>f64</td><td>f64</td><td>f64</td><td>f64</td><td>f64</td><td>f64</td><td>f64</td><td>f64</td><td>f64</td><td>f64</td><td>f64</td><td>f64</td><td>f64</td><td>f64</td><td>f64</td><td>f64</td><td>f64</td><td>f64</td></tr></thead><tbody><tr><td>1.0</td><td>4.0</td><td>3441.0</td><td>4.0</td><td>557.0</td><td>1239.0</td><td>33.0</td><td>14.0</td><td>21.0</td><td>2015.0</td><td>2.0</td><td>6.0</td><td>16.0</td><td>54.0</td><td>2015.0</td><td>2.0</td><td>6.0</td><td>17.0</td><td>57.0</td></tr><tr><td>2.0</td><td>1.0</td><td>1900.0</td><td>1.0</td><td>1400.0</td><td>1400.0</td><td>1.0</td><td>2.0</td><td>2.0</td><td>2015.0</td><td>2.0</td><td>10.0</td><td>16.0</td><td>19.0</td><td>2015.0</td><td>2.0</td><td>10.0</td><td>17.0</td><td>26.0</td></tr><tr><td>1.0</td><td>1.0</td><td>1900.0</td><td>1.0</td><td>1900.0</td><td>1900.0</td><td>1.0</td><td>0.0</td><td>0.0</td><td>2015.0</td><td>1.0</td><td>22.0</td><td>15.0</td><td>9.0</td><td>2015.0</td><td>1.0</td><td>22.0</td><td>15.0</td><td>39.0</td></tr><tr><td>1.0</td><td>6.0</td><td>6900.0</td><td>5.0</td><td>600.0</td><td>1800.0</td><td>1.0</td><td>1.0</td><td>2.0</td><td>2015.0</td><td>2.0</td><td>3.0</td><td>15.0</td><td>51.0</td><td>2015.0</td><td>2.0</td><td>3.0</td><td>16.0</td><td>43.0</td></tr><tr><td>1.0</td><td>3.0</td><td>3900.0</td><td>3.0</td><td>1100.0</td><td>1600.0</td><td>6.0</td><td>6.0</td><td>9.0</td><td>2015.0</td><td>2.0</td><td>14.0</td><td>21.0</td><td>10.0</td><td>2015.0</td><td>2.0</td><td>14.0</td><td>21.0</td><td>50.0</td></tr><tr><td>&hellip;</td><td>&hellip;</td><td>&hellip;</td><td>&hellip;</td><td>&hellip;</td><td>&hellip;</td><td>&hellip;</td><td>&hellip;</td><td>&hellip;</td><td>&hellip;</td><td>&hellip;</td><td>&hellip;</td><td>&hellip;</td><td>&hellip;</td><td>&hellip;</td><td>&hellip;</td><td>&hellip;</td><td>&hellip;</td><td>&hellip;</td></tr><tr><td>4.0</td><td>3.0</td><td>1389.0</td><td>3.0</td><td>345.0</td><td>649.0</td><td>17.0</td><td>17.0</td><td>23.0</td><td>2015.0</td><td>2.0</td><td>16.0</td><td>18.0</td><td>49.0</td><td>2015.0</td><td>2.0</td><td>16.0</td><td>19.0</td><td>54.0</td></tr><tr><td>4.0</td><td>6.0</td><td>3010.0</td><td>4.0</td><td>405.0</td><td>825.0</td><td>12.0</td><td>11.0</td><td>14.0</td><td>2015.0</td><td>2.0</td><td>12.0</td><td>18.0</td><td>31.0</td><td>2015.0</td><td>2.0</td><td>12.0</td><td>19.0</td><td>28.0</td></tr><tr><td>4.0</td><td>5.0</td><td>1836.0</td><td>3.0</td><td>300.0</td><td>399.0</td><td>39.0</td><td>41.0</td><td>40.0</td><td>2015.0</td><td>1.0</td><td>23.0</td><td>23.0</td><td>16.0</td><td>2015.0</td><td>1.0</td><td>24.0</td><td>0.0</td><td>6.0</td></tr><tr><td>1.0</td><td>1.0</td><td>1175.0</td><td>1.0</td><td>535.0</td><td>535.0</td><td>7.0</td><td>7.0</td><td>12.0</td><td>2015.0</td><td>2.0</td><td>1.0</td><td>12.0</td><td>48.0</td><td>2015.0</td><td>2.0</td><td>1.0</td><td>13.0</td><td>53.0</td></tr><tr><td>1.0</td><td>4.0</td><td>2605.0</td><td>4.0</td><td>425.0</td><td>750.0</td><td>20.0</td><td>20.0</td><td>23.0</td><td>2015.0</td><td>2.0</td><td>8.0</td><td>13.0</td><td>54.0</td><td>2015.0</td><td>2.0</td><td>8.0</td><td>14.0</td><td>31.0</td></tr></tbody></table></div>"
      ],
      "text/plain": [
       "shape: (177_544, 19)\n",
       "┌───────────┬───────────┬──────────┬───────────┬───┬───────────┬───────────┬───────────┬───────────┐\n",
       "│ order_pro ┆ total_ite ┆ subtotal ┆ num_disti ┆ … ┆ actual_de ┆ actual_de ┆ actual_de ┆ actual_de │\n",
       "│ tocol     ┆ ms        ┆ ---      ┆ nct_items ┆   ┆ livery_ti ┆ livery_ti ┆ livery_ti ┆ livery_ti │\n",
       "│ ---       ┆ ---       ┆ f64      ┆ ---       ┆   ┆ me_month  ┆ me_day    ┆ me_hour   ┆ me_minute │\n",
       "│ f64       ┆ f64       ┆          ┆ f64       ┆   ┆ ---       ┆ ---       ┆ ---       ┆ ---       │\n",
       "│           ┆           ┆          ┆           ┆   ┆ f64       ┆ f64       ┆ f64       ┆ f64       │\n",
       "╞═══════════╪═══════════╪══════════╪═══════════╪═══╪═══════════╪═══════════╪═══════════╪═══════════╡\n",
       "│ 1.0       ┆ 4.0       ┆ 3441.0   ┆ 4.0       ┆ … ┆ 2.0       ┆ 6.0       ┆ 17.0      ┆ 57.0      │\n",
       "│ 2.0       ┆ 1.0       ┆ 1900.0   ┆ 1.0       ┆ … ┆ 2.0       ┆ 10.0      ┆ 17.0      ┆ 26.0      │\n",
       "│ 1.0       ┆ 1.0       ┆ 1900.0   ┆ 1.0       ┆ … ┆ 1.0       ┆ 22.0      ┆ 15.0      ┆ 39.0      │\n",
       "│ 1.0       ┆ 6.0       ┆ 6900.0   ┆ 5.0       ┆ … ┆ 2.0       ┆ 3.0       ┆ 16.0      ┆ 43.0      │\n",
       "│ 1.0       ┆ 3.0       ┆ 3900.0   ┆ 3.0       ┆ … ┆ 2.0       ┆ 14.0      ┆ 21.0      ┆ 50.0      │\n",
       "│ …         ┆ …         ┆ …        ┆ …         ┆ … ┆ …         ┆ …         ┆ …         ┆ …         │\n",
       "│ 4.0       ┆ 3.0       ┆ 1389.0   ┆ 3.0       ┆ … ┆ 2.0       ┆ 16.0      ┆ 19.0      ┆ 54.0      │\n",
       "│ 4.0       ┆ 6.0       ┆ 3010.0   ┆ 4.0       ┆ … ┆ 2.0       ┆ 12.0      ┆ 19.0      ┆ 28.0      │\n",
       "│ 4.0       ┆ 5.0       ┆ 1836.0   ┆ 3.0       ┆ … ┆ 1.0       ┆ 24.0      ┆ 0.0       ┆ 6.0       │\n",
       "│ 1.0       ┆ 1.0       ┆ 1175.0   ┆ 1.0       ┆ … ┆ 2.0       ┆ 1.0       ┆ 13.0      ┆ 53.0      │\n",
       "│ 1.0       ┆ 4.0       ┆ 2605.0   ┆ 4.0       ┆ … ┆ 2.0       ┆ 8.0       ┆ 14.0      ┆ 31.0      │\n",
       "└───────────┴───────────┴──────────┴───────────┴───┴───────────┴───────────┴───────────┴───────────┘"
      ]
     },
     "execution_count": 45,
     "metadata": {},
     "output_type": "execute_result"
    }
   ],
   "source": [
    "# imputed_features = scaler.inverse_transform(imputed_features)\n",
    "imputed_features = pl.DataFrame(imputed_features)\n",
    "imputed_features.columns = cols\n",
    "imputed_features"
   ]
  },
  {
   "cell_type": "code",
   "execution_count": 46,
   "metadata": {},
   "outputs": [],
   "source": [
    "df=df.with_columns(\n",
    "    pl.when(pl.col(\"order_protocol\").is_null())\n",
    "    .then(imputed_features[\"order_protocol\"])\n",
    "    .otherwise(pl.col(\"order_protocol\"))\n",
    "    .cast(pl.Int8)\n",
    "    .alias(\"order_protocol\")\n",
    ")"
   ]
  },
  {
   "cell_type": "code",
   "execution_count": 47,
   "metadata": {},
   "outputs": [],
   "source": [
    "df.write_parquet(\"../data/cleaned/dataset.parquet\")"
   ]
  },
  {
   "cell_type": "markdown",
   "metadata": {},
   "source": [
    "# Feature Generation"
   ]
  },
  {
   "cell_type": "code",
   "execution_count": 54,
   "metadata": {},
   "outputs": [],
   "source": [
    "df=pl.read_parquet(\"../data/cleaned/dataset.parquet\")"
   ]
  },
  {
   "cell_type": "code",
   "execution_count": 55,
   "metadata": {},
   "outputs": [
    {
     "data": {
      "text/plain": [
       "(datetime.datetime(2015, 2, 18, 0, 30, 44),\n",
       " datetime.datetime(2015, 1, 21, 9, 52, 3))"
      ]
     },
     "execution_count": 55,
     "metadata": {},
     "output_type": "execute_result"
    }
   ],
   "source": [
    "df[\"created_at\"].max(), df[\"created_at\"].min()"
   ]
  },
  {
   "cell_type": "code",
   "execution_count": 56,
   "metadata": {},
   "outputs": [],
   "source": [
    "df=df.with_columns(\n",
    "    pl.col(\"created_at\").dt.strftime(\"%b\").alias(\"created_at_month_name\"),\n",
    "    pl.col(\"actual_delivery_time\").dt.strftime(\"%b\").alias(\"actual_delivery_time_month_name\"),\n",
    "    pl.col(\"created_at\").dt.weekday().alias(\"created_at_day_of_week\"),\n",
    "    pl.col(\"actual_delivery_time\").dt.weekday().alias(\"actual_delivery_time_day_of_week\"),\n",
    "    pl.col(\"created_at\").dt.strftime(\"%a\").alias(\"created_at_day_name\"),\n",
    "    pl.col(\"actual_delivery_time\").dt.strftime(\"%a\").alias(\"actual_delivery_time_day_name\"),\n",
    "    pl.col(\"created_at\").dt.week().alias(\"created_at_week_number\"),\n",
    "    pl.col(\"actual_delivery_time\").dt.week().alias(\"actual_delivery_time_week_number\"),\n",
    "   ((pl.col(\"created_at\").dt.day() - 1) // 7 + 1).cast(pl.Int16).alias(\"created_at_week_of_month\"),\n",
    "    ((pl.col(\"actual_delivery_time\").dt.day() - 1) // 7 + 1).cast(pl.Int16).alias(\"actual_delivery_time_week_of_month\")\n",
    "\n",
    ")"
   ]
  },
  {
   "cell_type": "code",
   "execution_count": 57,
   "metadata": {},
   "outputs": [],
   "source": [
    "df=df.with_columns(\n",
    "    ((pl.col(\"actual_delivery_time\") - pl.col(\"created_at\")).dt.total_seconds())\n",
    "    .alias(\"delivery_time_seconds\"),\n",
    "    ((pl.col(\"actual_delivery_time\") - pl.col(\"created_at\")).dt.total_minutes())\n",
    "    .alias(\"delivery_time_minutes\"),\n",
    ")"
   ]
  },
  {
   "cell_type": "code",
   "execution_count": 58,
   "metadata": {},
   "outputs": [
    {
     "data": {
      "text/html": [
       "<div><style>\n",
       ".dataframe > thead > tr,\n",
       ".dataframe > tbody > tr {\n",
       "  text-align: right;\n",
       "  white-space: pre-wrap;\n",
       "}\n",
       "</style>\n",
       "<small>shape: (177_544, 38)</small><table border=\"1\" class=\"dataframe\"><thead><tr><th>market_id</th><th>created_at</th><th>actual_delivery_time</th><th>store_id</th><th>store_primary_category</th><th>order_protocol</th><th>total_items</th><th>subtotal</th><th>num_distinct_items</th><th>min_item_price</th><th>max_item_price</th><th>total_onshift_partners</th><th>total_busy_partners</th><th>total_outstanding_orders</th><th>created_at_year</th><th>created_at_month</th><th>created_at_day</th><th>created_at_hour</th><th>created_at_minute</th><th>created_at_second</th><th>actual_delivery_time_year</th><th>actual_delivery_time_month</th><th>actual_delivery_time_day</th><th>actual_delivery_time_hour</th><th>actual_delivery_time_minute</th><th>actual_delivery_time_second</th><th>created_at_month_name</th><th>actual_delivery_time_month_name</th><th>created_at_day_of_week</th><th>actual_delivery_time_day_of_week</th><th>created_at_day_name</th><th>actual_delivery_time_day_name</th><th>created_at_week_number</th><th>actual_delivery_time_week_number</th><th>created_at_week_of_month</th><th>actual_delivery_time_week_of_month</th><th>delivery_time_seconds</th><th>delivery_time_minutes</th></tr><tr><td>i8</td><td>datetime[μs]</td><td>datetime[μs]</td><td>str</td><td>str</td><td>i8</td><td>i16</td><td>i16</td><td>i16</td><td>i16</td><td>i16</td><td>f64</td><td>f64</td><td>f64</td><td>i32</td><td>i8</td><td>i8</td><td>i8</td><td>i8</td><td>i8</td><td>i32</td><td>i8</td><td>i8</td><td>i8</td><td>i8</td><td>i8</td><td>str</td><td>str</td><td>i8</td><td>i8</td><td>str</td><td>str</td><td>i8</td><td>i8</td><td>i16</td><td>i16</td><td>i64</td><td>i64</td></tr></thead><tbody><tr><td>1</td><td>2015-02-06 16:54:17</td><td>2015-02-06 17:57:16</td><td>&quot;df263d996281d984952c07998dc543…</td><td>&quot;american&quot;</td><td>1</td><td>4</td><td>3441</td><td>4</td><td>557</td><td>1239</td><td>33.0</td><td>14.0</td><td>21.0</td><td>2015</td><td>2</td><td>6</td><td>16</td><td>54</td><td>17</td><td>2015</td><td>2</td><td>6</td><td>17</td><td>57</td><td>16</td><td>&quot;Feb&quot;</td><td>&quot;Feb&quot;</td><td>5</td><td>5</td><td>&quot;Fri&quot;</td><td>&quot;Fri&quot;</td><td>6</td><td>6</td><td>1</td><td>1</td><td>3779</td><td>62</td></tr><tr><td>2</td><td>2015-02-10 16:19:25</td><td>2015-02-10 17:26:29</td><td>&quot;f0ade77b43923b38237db569b016ba…</td><td>&quot;mexican&quot;</td><td>2</td><td>1</td><td>1900</td><td>1</td><td>1400</td><td>1400</td><td>1.0</td><td>2.0</td><td>2.0</td><td>2015</td><td>2</td><td>10</td><td>16</td><td>19</td><td>25</td><td>2015</td><td>2</td><td>10</td><td>17</td><td>26</td><td>29</td><td>&quot;Feb&quot;</td><td>&quot;Feb&quot;</td><td>2</td><td>2</td><td>&quot;Tue&quot;</td><td>&quot;Tue&quot;</td><td>7</td><td>7</td><td>2</td><td>2</td><td>4024</td><td>67</td></tr><tr><td>3</td><td>2015-01-22 15:09:28</td><td>2015-01-22 15:39:09</td><td>&quot;f0ade77b43923b38237db569b016ba…</td><td>&quot;other&quot;</td><td>1</td><td>1</td><td>1900</td><td>1</td><td>1900</td><td>1900</td><td>1.0</td><td>0.0</td><td>0.0</td><td>2015</td><td>1</td><td>22</td><td>15</td><td>9</td><td>28</td><td>2015</td><td>1</td><td>22</td><td>15</td><td>39</td><td>9</td><td>&quot;Jan&quot;</td><td>&quot;Jan&quot;</td><td>4</td><td>4</td><td>&quot;Thu&quot;</td><td>&quot;Thu&quot;</td><td>4</td><td>4</td><td>4</td><td>4</td><td>1781</td><td>29</td></tr><tr><td>3</td><td>2015-02-03 15:51:45</td><td>2015-02-03 16:43:00</td><td>&quot;f0ade77b43923b38237db569b016ba…</td><td>&quot;other&quot;</td><td>1</td><td>6</td><td>6900</td><td>5</td><td>600</td><td>1800</td><td>1.0</td><td>1.0</td><td>2.0</td><td>2015</td><td>2</td><td>3</td><td>15</td><td>51</td><td>45</td><td>2015</td><td>2</td><td>3</td><td>16</td><td>43</td><td>0</td><td>&quot;Feb&quot;</td><td>&quot;Feb&quot;</td><td>2</td><td>2</td><td>&quot;Tue&quot;</td><td>&quot;Tue&quot;</td><td>6</td><td>6</td><td>1</td><td>1</td><td>3075</td><td>51</td></tr><tr><td>3</td><td>2015-02-14 21:10:36</td><td>2015-02-14 21:50:26</td><td>&quot;f0ade77b43923b38237db569b016ba…</td><td>&quot;other&quot;</td><td>1</td><td>3</td><td>3900</td><td>3</td><td>1100</td><td>1600</td><td>6.0</td><td>6.0</td><td>9.0</td><td>2015</td><td>2</td><td>14</td><td>21</td><td>10</td><td>36</td><td>2015</td><td>2</td><td>14</td><td>21</td><td>50</td><td>26</td><td>&quot;Feb&quot;</td><td>&quot;Feb&quot;</td><td>6</td><td>6</td><td>&quot;Sat&quot;</td><td>&quot;Sat&quot;</td><td>7</td><td>7</td><td>2</td><td>2</td><td>2390</td><td>39</td></tr><tr><td>&hellip;</td><td>&hellip;</td><td>&hellip;</td><td>&hellip;</td><td>&hellip;</td><td>&hellip;</td><td>&hellip;</td><td>&hellip;</td><td>&hellip;</td><td>&hellip;</td><td>&hellip;</td><td>&hellip;</td><td>&hellip;</td><td>&hellip;</td><td>&hellip;</td><td>&hellip;</td><td>&hellip;</td><td>&hellip;</td><td>&hellip;</td><td>&hellip;</td><td>&hellip;</td><td>&hellip;</td><td>&hellip;</td><td>&hellip;</td><td>&hellip;</td><td>&hellip;</td><td>&hellip;</td><td>&hellip;</td><td>&hellip;</td><td>&hellip;</td><td>&hellip;</td><td>&hellip;</td><td>&hellip;</td><td>&hellip;</td><td>&hellip;</td><td>&hellip;</td><td>&hellip;</td><td>&hellip;</td></tr><tr><td>1</td><td>2015-02-16 18:49:41</td><td>2015-02-16 19:54:48</td><td>&quot;a914ecef9c12ffdb9bede64bb703d8…</td><td>&quot;fast&quot;</td><td>4</td><td>3</td><td>1389</td><td>3</td><td>345</td><td>649</td><td>17.0</td><td>17.0</td><td>23.0</td><td>2015</td><td>2</td><td>16</td><td>18</td><td>49</td><td>41</td><td>2015</td><td>2</td><td>16</td><td>19</td><td>54</td><td>48</td><td>&quot;Feb&quot;</td><td>&quot;Feb&quot;</td><td>1</td><td>1</td><td>&quot;Mon&quot;</td><td>&quot;Mon&quot;</td><td>8</td><td>8</td><td>3</td><td>3</td><td>3907</td><td>65</td></tr><tr><td>1</td><td>2015-02-12 18:31:59</td><td>2015-02-12 19:28:22</td><td>&quot;a914ecef9c12ffdb9bede64bb703d8…</td><td>&quot;fast&quot;</td><td>4</td><td>6</td><td>3010</td><td>4</td><td>405</td><td>825</td><td>12.0</td><td>11.0</td><td>14.0</td><td>2015</td><td>2</td><td>12</td><td>18</td><td>31</td><td>59</td><td>2015</td><td>2</td><td>12</td><td>19</td><td>28</td><td>22</td><td>&quot;Feb&quot;</td><td>&quot;Feb&quot;</td><td>4</td><td>4</td><td>&quot;Thu&quot;</td><td>&quot;Thu&quot;</td><td>7</td><td>7</td><td>2</td><td>2</td><td>3383</td><td>56</td></tr><tr><td>1</td><td>2015-01-23 23:16:08</td><td>2015-01-24 00:06:16</td><td>&quot;a914ecef9c12ffdb9bede64bb703d8…</td><td>&quot;fast&quot;</td><td>4</td><td>5</td><td>1836</td><td>3</td><td>300</td><td>399</td><td>39.0</td><td>41.0</td><td>40.0</td><td>2015</td><td>1</td><td>23</td><td>23</td><td>16</td><td>8</td><td>2015</td><td>1</td><td>24</td><td>0</td><td>6</td><td>16</td><td>&quot;Jan&quot;</td><td>&quot;Jan&quot;</td><td>5</td><td>6</td><td>&quot;Fri&quot;</td><td>&quot;Sat&quot;</td><td>4</td><td>4</td><td>4</td><td>4</td><td>3008</td><td>50</td></tr><tr><td>1</td><td>2015-02-01 12:48:15</td><td>2015-02-01 13:53:22</td><td>&quot;c81e155d85dae5430a8cee6f2242e8…</td><td>&quot;sandwich&quot;</td><td>1</td><td>1</td><td>1175</td><td>1</td><td>535</td><td>535</td><td>7.0</td><td>7.0</td><td>12.0</td><td>2015</td><td>2</td><td>1</td><td>12</td><td>48</td><td>15</td><td>2015</td><td>2</td><td>1</td><td>13</td><td>53</td><td>22</td><td>&quot;Feb&quot;</td><td>&quot;Feb&quot;</td><td>7</td><td>7</td><td>&quot;Sun&quot;</td><td>&quot;Sun&quot;</td><td>5</td><td>5</td><td>1</td><td>1</td><td>3907</td><td>65</td></tr><tr><td>1</td><td>2015-02-08 13:54:33</td><td>2015-02-08 14:31:41</td><td>&quot;c81e155d85dae5430a8cee6f2242e8…</td><td>&quot;sandwich&quot;</td><td>1</td><td>4</td><td>2605</td><td>4</td><td>425</td><td>750</td><td>20.0</td><td>20.0</td><td>23.0</td><td>2015</td><td>2</td><td>8</td><td>13</td><td>54</td><td>33</td><td>2015</td><td>2</td><td>8</td><td>14</td><td>31</td><td>41</td><td>&quot;Feb&quot;</td><td>&quot;Feb&quot;</td><td>7</td><td>7</td><td>&quot;Sun&quot;</td><td>&quot;Sun&quot;</td><td>6</td><td>6</td><td>2</td><td>2</td><td>2228</td><td>37</td></tr></tbody></table></div>"
      ],
      "text/plain": [
       "shape: (177_544, 38)\n",
       "┌───────────┬───────────┬───────────┬───────────┬───┬───────────┬───────────┬───────────┬──────────┐\n",
       "│ market_id ┆ created_a ┆ actual_de ┆ store_id  ┆ … ┆ created_a ┆ actual_de ┆ delivery_ ┆ delivery │\n",
       "│ ---       ┆ t         ┆ livery_ti ┆ ---       ┆   ┆ t_week_of ┆ livery_ti ┆ time_seco ┆ _time_mi │\n",
       "│ i8        ┆ ---       ┆ me        ┆ str       ┆   ┆ _month    ┆ me_week_o ┆ nds       ┆ nutes    │\n",
       "│           ┆ datetime[ ┆ ---       ┆           ┆   ┆ ---       ┆ f_m…      ┆ ---       ┆ ---      │\n",
       "│           ┆ μs]       ┆ datetime[ ┆           ┆   ┆ i16       ┆ ---       ┆ i64       ┆ i64      │\n",
       "│           ┆           ┆ μs]       ┆           ┆   ┆           ┆ i16       ┆           ┆          │\n",
       "╞═══════════╪═══════════╪═══════════╪═══════════╪═══╪═══════════╪═══════════╪═══════════╪══════════╡\n",
       "│ 1         ┆ 2015-02-0 ┆ 2015-02-0 ┆ df263d996 ┆ … ┆ 1         ┆ 1         ┆ 3779      ┆ 62       │\n",
       "│           ┆ 6         ┆ 6         ┆ 281d98495 ┆   ┆           ┆           ┆           ┆          │\n",
       "│           ┆ 16:54:17  ┆ 17:57:16  ┆ 2c07998dc ┆   ┆           ┆           ┆           ┆          │\n",
       "│           ┆           ┆           ┆ 543…      ┆   ┆           ┆           ┆           ┆          │\n",
       "│ 2         ┆ 2015-02-1 ┆ 2015-02-1 ┆ f0ade77b4 ┆ … ┆ 2         ┆ 2         ┆ 4024      ┆ 67       │\n",
       "│           ┆ 0         ┆ 0         ┆ 3923b3823 ┆   ┆           ┆           ┆           ┆          │\n",
       "│           ┆ 16:19:25  ┆ 17:26:29  ┆ 7db569b01 ┆   ┆           ┆           ┆           ┆          │\n",
       "│           ┆           ┆           ┆ 6ba…      ┆   ┆           ┆           ┆           ┆          │\n",
       "│ 3         ┆ 2015-01-2 ┆ 2015-01-2 ┆ f0ade77b4 ┆ … ┆ 4         ┆ 4         ┆ 1781      ┆ 29       │\n",
       "│           ┆ 2         ┆ 2         ┆ 3923b3823 ┆   ┆           ┆           ┆           ┆          │\n",
       "│           ┆ 15:09:28  ┆ 15:39:09  ┆ 7db569b01 ┆   ┆           ┆           ┆           ┆          │\n",
       "│           ┆           ┆           ┆ 6ba…      ┆   ┆           ┆           ┆           ┆          │\n",
       "│ 3         ┆ 2015-02-0 ┆ 2015-02-0 ┆ f0ade77b4 ┆ … ┆ 1         ┆ 1         ┆ 3075      ┆ 51       │\n",
       "│           ┆ 3         ┆ 3         ┆ 3923b3823 ┆   ┆           ┆           ┆           ┆          │\n",
       "│           ┆ 15:51:45  ┆ 16:43:00  ┆ 7db569b01 ┆   ┆           ┆           ┆           ┆          │\n",
       "│           ┆           ┆           ┆ 6ba…      ┆   ┆           ┆           ┆           ┆          │\n",
       "│ 3         ┆ 2015-02-1 ┆ 2015-02-1 ┆ f0ade77b4 ┆ … ┆ 2         ┆ 2         ┆ 2390      ┆ 39       │\n",
       "│           ┆ 4         ┆ 4         ┆ 3923b3823 ┆   ┆           ┆           ┆           ┆          │\n",
       "│           ┆ 21:10:36  ┆ 21:50:26  ┆ 7db569b01 ┆   ┆           ┆           ┆           ┆          │\n",
       "│           ┆           ┆           ┆ 6ba…      ┆   ┆           ┆           ┆           ┆          │\n",
       "│ …         ┆ …         ┆ …         ┆ …         ┆ … ┆ …         ┆ …         ┆ …         ┆ …        │\n",
       "│ 1         ┆ 2015-02-1 ┆ 2015-02-1 ┆ a914ecef9 ┆ … ┆ 3         ┆ 3         ┆ 3907      ┆ 65       │\n",
       "│           ┆ 6         ┆ 6         ┆ c12ffdb9b ┆   ┆           ┆           ┆           ┆          │\n",
       "│           ┆ 18:49:41  ┆ 19:54:48  ┆ ede64bb70 ┆   ┆           ┆           ┆           ┆          │\n",
       "│           ┆           ┆           ┆ 3d8…      ┆   ┆           ┆           ┆           ┆          │\n",
       "│ 1         ┆ 2015-02-1 ┆ 2015-02-1 ┆ a914ecef9 ┆ … ┆ 2         ┆ 2         ┆ 3383      ┆ 56       │\n",
       "│           ┆ 2         ┆ 2         ┆ c12ffdb9b ┆   ┆           ┆           ┆           ┆          │\n",
       "│           ┆ 18:31:59  ┆ 19:28:22  ┆ ede64bb70 ┆   ┆           ┆           ┆           ┆          │\n",
       "│           ┆           ┆           ┆ 3d8…      ┆   ┆           ┆           ┆           ┆          │\n",
       "│ 1         ┆ 2015-01-2 ┆ 2015-01-2 ┆ a914ecef9 ┆ … ┆ 4         ┆ 4         ┆ 3008      ┆ 50       │\n",
       "│           ┆ 3         ┆ 4         ┆ c12ffdb9b ┆   ┆           ┆           ┆           ┆          │\n",
       "│           ┆ 23:16:08  ┆ 00:06:16  ┆ ede64bb70 ┆   ┆           ┆           ┆           ┆          │\n",
       "│           ┆           ┆           ┆ 3d8…      ┆   ┆           ┆           ┆           ┆          │\n",
       "│ 1         ┆ 2015-02-0 ┆ 2015-02-0 ┆ c81e155d8 ┆ … ┆ 1         ┆ 1         ┆ 3907      ┆ 65       │\n",
       "│           ┆ 1         ┆ 1         ┆ 5dae5430a ┆   ┆           ┆           ┆           ┆          │\n",
       "│           ┆ 12:48:15  ┆ 13:53:22  ┆ 8cee6f224 ┆   ┆           ┆           ┆           ┆          │\n",
       "│           ┆           ┆           ┆ 2e8…      ┆   ┆           ┆           ┆           ┆          │\n",
       "│ 1         ┆ 2015-02-0 ┆ 2015-02-0 ┆ c81e155d8 ┆ … ┆ 2         ┆ 2         ┆ 2228      ┆ 37       │\n",
       "│           ┆ 8         ┆ 8         ┆ 5dae5430a ┆   ┆           ┆           ┆           ┆          │\n",
       "│           ┆ 13:54:33  ┆ 14:31:41  ┆ 8cee6f224 ┆   ┆           ┆           ┆           ┆          │\n",
       "│           ┆           ┆           ┆ 2e8…      ┆   ┆           ┆           ┆           ┆          │\n",
       "└───────────┴───────────┴───────────┴───────────┴───┴───────────┴───────────┴───────────┴──────────┘"
      ]
     },
     "execution_count": 58,
     "metadata": {},
     "output_type": "execute_result"
    }
   ],
   "source": [
    "df.with_columns(\n",
    "    pl.col(\"market_id\").cast(pl.Int8).alias(\"market_id\"),\n",
    "    pl.col(\"total_items\").cast(pl.Int16).alias(\"total_items\"),\n",
    "    pl.col(\"subtotal\").cast(pl.Int16).alias(\"subtotal\"),\n",
    "    pl.col(\"num_distinct_items\").cast(pl.Int16).alias(\"num_distinct_items\"),\n",
    "    pl.col(\"min_item_price\").cast(pl.Int16).alias(\"min_item_price\"),\n",
    "    pl.col(\"max_item_price\").cast(pl.Int16).alias(\"max_item_price\"),\n",
    ")"
   ]
  },
  {
   "cell_type": "code",
   "execution_count": 59,
   "metadata": {},
   "outputs": [],
   "source": [
    "df.write_parquet(\"../data/cleaned/dataset.parquet\")"
   ]
  },
  {
   "cell_type": "code",
   "execution_count": null,
   "metadata": {},
   "outputs": [],
   "source": []
  }
 ],
 "metadata": {
  "kernelspec": {
   "display_name": "base",
   "language": "python",
   "name": "python3"
  },
  "language_info": {
   "codemirror_mode": {
    "name": "ipython",
    "version": 3
   },
   "file_extension": ".py",
   "mimetype": "text/x-python",
   "name": "python",
   "nbconvert_exporter": "python",
   "pygments_lexer": "ipython3",
   "version": "3.12.2"
  }
 },
 "nbformat": 4,
 "nbformat_minor": 2
}
